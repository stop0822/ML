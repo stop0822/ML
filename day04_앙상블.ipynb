{
 "cells": [
  {
   "cell_type": "code",
   "execution_count": 1,
   "id": "a293ed65-0c88-4e9e-8c35-0fdd9b6586b8",
   "metadata": {},
   "outputs": [],
   "source": [
    "import pandas as pd\n",
    "from sklearn.ensemble import VotingClassifier\n",
    "from sklearn.linear_model import LogisticRegression\n",
    "from sklearn.neighbors import KNeighborsClassifier\n",
    "from sklearn.datasets import load_breast_cancer\n",
    "from sklearn.model_selection import train_test_split\n",
    "from sklearn.metrics import accuracy_score\n",
    "import warnings\n",
    "warnings.filterwarnings('ignore')"
   ]
  },
  {
   "cell_type": "code",
   "execution_count": 2,
   "id": "28b9a81c-1a1d-494f-b32c-93c5be33ab3b",
   "metadata": {},
   "outputs": [
    {
     "data": {
      "text/plain": [
       "dict_keys(['data', 'target', 'frame', 'target_names', 'DESCR', 'feature_names', 'filename'])"
      ]
     },
     "execution_count": 2,
     "metadata": {},
     "output_type": "execute_result"
    }
   ],
   "source": [
    "cancer = load_breast_cancer()\n",
    "cancer.keys()"
   ]
  },
  {
   "cell_type": "code",
   "execution_count": 3,
   "id": "4e41e5c3-3300-44ba-b54e-1b325806206d",
   "metadata": {
    "tags": []
   },
   "outputs": [
    {
     "data": {
      "text/plain": [
       "array([0, 0, 0, 0, 0, 0, 0, 0, 0, 0, 0, 0, 0, 0, 0, 0, 0, 0, 0, 1, 1, 1,\n",
       "       0, 0, 0, 0, 0, 0, 0, 0, 0, 0, 0, 0, 0, 0, 0, 1, 0, 0, 0, 0, 0, 0,\n",
       "       0, 0, 1, 0, 1, 1, 1, 1, 1, 0, 0, 1, 0, 0, 1, 1, 1, 1, 0, 1, 0, 0,\n",
       "       1, 1, 1, 1, 0, 1, 0, 0, 1, 0, 1, 0, 0, 1, 1, 1, 0, 0, 1, 0, 0, 0,\n",
       "       1, 1, 1, 0, 1, 1, 0, 0, 1, 1, 1, 0, 0, 1, 1, 1, 1, 0, 1, 1, 0, 1,\n",
       "       1, 1, 1, 1, 1, 1, 1, 0, 0, 0, 1, 0, 0, 1, 1, 1, 0, 0, 1, 0, 1, 0,\n",
       "       0, 1, 0, 0, 1, 1, 0, 1, 1, 0, 1, 1, 1, 1, 0, 1, 1, 1, 1, 1, 1, 1,\n",
       "       1, 1, 0, 1, 1, 1, 1, 0, 0, 1, 0, 1, 1, 0, 0, 1, 1, 0, 0, 1, 1, 1,\n",
       "       1, 0, 1, 1, 0, 0, 0, 1, 0, 1, 0, 1, 1, 1, 0, 1, 1, 0, 0, 1, 0, 0,\n",
       "       0, 0, 1, 0, 0, 0, 1, 0, 1, 0, 1, 1, 0, 1, 0, 0, 0, 0, 1, 1, 0, 0,\n",
       "       1, 1, 1, 0, 1, 1, 1, 1, 1, 0, 0, 1, 1, 0, 1, 1, 0, 0, 1, 0, 1, 1,\n",
       "       1, 1, 0, 1, 1, 1, 1, 1, 0, 1, 0, 0, 0, 0, 0, 0, 0, 0, 0, 0, 0, 0,\n",
       "       0, 0, 1, 1, 1, 1, 1, 1, 0, 1, 0, 1, 1, 0, 1, 1, 0, 1, 0, 0, 1, 1,\n",
       "       1, 1, 1, 1, 1, 1, 1, 1, 1, 1, 1, 0, 1, 1, 0, 1, 0, 1, 1, 1, 1, 1,\n",
       "       1, 1, 1, 1, 1, 1, 1, 1, 1, 0, 1, 1, 1, 0, 1, 0, 1, 1, 1, 1, 0, 0,\n",
       "       0, 1, 1, 1, 1, 0, 1, 0, 1, 0, 1, 1, 1, 0, 1, 1, 1, 1, 1, 1, 1, 0,\n",
       "       0, 0, 1, 1, 1, 1, 1, 1, 1, 1, 1, 1, 1, 0, 0, 1, 0, 0, 0, 1, 0, 0,\n",
       "       1, 1, 1, 1, 1, 0, 1, 1, 1, 1, 1, 0, 1, 1, 1, 0, 1, 1, 0, 0, 1, 1,\n",
       "       1, 1, 1, 1, 0, 1, 1, 1, 1, 1, 1, 1, 0, 1, 1, 1, 1, 1, 0, 1, 1, 0,\n",
       "       1, 1, 1, 1, 1, 1, 1, 1, 1, 1, 1, 1, 0, 1, 0, 0, 1, 0, 1, 1, 1, 1,\n",
       "       1, 0, 1, 1, 0, 1, 0, 1, 1, 0, 1, 0, 1, 1, 1, 1, 1, 1, 1, 1, 0, 0,\n",
       "       1, 1, 1, 1, 1, 1, 0, 1, 1, 1, 1, 1, 1, 1, 1, 1, 1, 0, 1, 1, 1, 1,\n",
       "       1, 1, 1, 0, 1, 0, 1, 1, 0, 1, 1, 1, 1, 1, 0, 0, 1, 0, 1, 0, 1, 1,\n",
       "       1, 1, 1, 0, 1, 1, 0, 1, 0, 1, 0, 0, 1, 1, 1, 0, 1, 1, 1, 1, 1, 1,\n",
       "       1, 1, 1, 1, 1, 0, 1, 0, 0, 1, 1, 1, 1, 1, 1, 1, 1, 1, 1, 1, 1, 1,\n",
       "       1, 1, 1, 1, 1, 1, 1, 1, 1, 1, 1, 1, 0, 0, 0, 0, 0, 0, 1])"
      ]
     },
     "execution_count": 3,
     "metadata": {},
     "output_type": "execute_result"
    }
   ],
   "source": [
    "cancer.target"
   ]
  },
  {
   "cell_type": "code",
   "execution_count": 4,
   "id": "8a500bfb-4b5d-42cf-a12e-3d401669a9c5",
   "metadata": {},
   "outputs": [
    {
     "data": {
      "text/plain": [
       "array(['malignant', 'benign'], dtype='<U9')"
      ]
     },
     "execution_count": 4,
     "metadata": {},
     "output_type": "execute_result"
    }
   ],
   "source": [
    "cancer.target_names"
   ]
  },
  {
   "cell_type": "code",
   "execution_count": 5,
   "id": "65d9a076-99c9-4a84-9bed-8f7de96a4671",
   "metadata": {},
   "outputs": [
    {
     "data": {
      "text/html": [
       "<div>\n",
       "<style scoped>\n",
       "    .dataframe tbody tr th:only-of-type {\n",
       "        vertical-align: middle;\n",
       "    }\n",
       "\n",
       "    .dataframe tbody tr th {\n",
       "        vertical-align: top;\n",
       "    }\n",
       "\n",
       "    .dataframe thead th {\n",
       "        text-align: right;\n",
       "    }\n",
       "</style>\n",
       "<table border=\"1\" class=\"dataframe\">\n",
       "  <thead>\n",
       "    <tr style=\"text-align: right;\">\n",
       "      <th></th>\n",
       "      <th>mean radius</th>\n",
       "      <th>mean texture</th>\n",
       "      <th>mean perimeter</th>\n",
       "      <th>mean area</th>\n",
       "      <th>mean smoothness</th>\n",
       "      <th>mean compactness</th>\n",
       "      <th>mean concavity</th>\n",
       "      <th>mean concave points</th>\n",
       "      <th>mean symmetry</th>\n",
       "      <th>mean fractal dimension</th>\n",
       "      <th>...</th>\n",
       "      <th>worst radius</th>\n",
       "      <th>worst texture</th>\n",
       "      <th>worst perimeter</th>\n",
       "      <th>worst area</th>\n",
       "      <th>worst smoothness</th>\n",
       "      <th>worst compactness</th>\n",
       "      <th>worst concavity</th>\n",
       "      <th>worst concave points</th>\n",
       "      <th>worst symmetry</th>\n",
       "      <th>worst fractal dimension</th>\n",
       "    </tr>\n",
       "  </thead>\n",
       "  <tbody>\n",
       "    <tr>\n",
       "      <th>0</th>\n",
       "      <td>17.99</td>\n",
       "      <td>10.38</td>\n",
       "      <td>122.8</td>\n",
       "      <td>1001.0</td>\n",
       "      <td>0.11840</td>\n",
       "      <td>0.27760</td>\n",
       "      <td>0.3001</td>\n",
       "      <td>0.14710</td>\n",
       "      <td>0.2419</td>\n",
       "      <td>0.07871</td>\n",
       "      <td>...</td>\n",
       "      <td>25.38</td>\n",
       "      <td>17.33</td>\n",
       "      <td>184.6</td>\n",
       "      <td>2019.0</td>\n",
       "      <td>0.1622</td>\n",
       "      <td>0.6656</td>\n",
       "      <td>0.7119</td>\n",
       "      <td>0.2654</td>\n",
       "      <td>0.4601</td>\n",
       "      <td>0.11890</td>\n",
       "    </tr>\n",
       "    <tr>\n",
       "      <th>1</th>\n",
       "      <td>20.57</td>\n",
       "      <td>17.77</td>\n",
       "      <td>132.9</td>\n",
       "      <td>1326.0</td>\n",
       "      <td>0.08474</td>\n",
       "      <td>0.07864</td>\n",
       "      <td>0.0869</td>\n",
       "      <td>0.07017</td>\n",
       "      <td>0.1812</td>\n",
       "      <td>0.05667</td>\n",
       "      <td>...</td>\n",
       "      <td>24.99</td>\n",
       "      <td>23.41</td>\n",
       "      <td>158.8</td>\n",
       "      <td>1956.0</td>\n",
       "      <td>0.1238</td>\n",
       "      <td>0.1866</td>\n",
       "      <td>0.2416</td>\n",
       "      <td>0.1860</td>\n",
       "      <td>0.2750</td>\n",
       "      <td>0.08902</td>\n",
       "    </tr>\n",
       "  </tbody>\n",
       "</table>\n",
       "<p>2 rows × 30 columns</p>\n",
       "</div>"
      ],
      "text/plain": [
       "   mean radius  mean texture  mean perimeter  mean area  mean smoothness  \\\n",
       "0        17.99         10.38           122.8     1001.0          0.11840   \n",
       "1        20.57         17.77           132.9     1326.0          0.08474   \n",
       "\n",
       "   mean compactness  mean concavity  mean concave points  mean symmetry  \\\n",
       "0           0.27760          0.3001              0.14710         0.2419   \n",
       "1           0.07864          0.0869              0.07017         0.1812   \n",
       "\n",
       "   mean fractal dimension  ...  worst radius  worst texture  worst perimeter  \\\n",
       "0                 0.07871  ...         25.38          17.33            184.6   \n",
       "1                 0.05667  ...         24.99          23.41            158.8   \n",
       "\n",
       "   worst area  worst smoothness  worst compactness  worst concavity  \\\n",
       "0      2019.0            0.1622             0.6656           0.7119   \n",
       "1      1956.0            0.1238             0.1866           0.2416   \n",
       "\n",
       "   worst concave points  worst symmetry  worst fractal dimension  \n",
       "0                0.2654          0.4601                  0.11890  \n",
       "1                0.1860          0.2750                  0.08902  \n",
       "\n",
       "[2 rows x 30 columns]"
      ]
     },
     "execution_count": 5,
     "metadata": {},
     "output_type": "execute_result"
    }
   ],
   "source": [
    "data_df = pd.DataFrame(cancer.data,columns=cancer.feature_names)\n",
    "data_df.head(2)"
   ]
  },
  {
   "cell_type": "code",
   "execution_count": 6,
   "id": "31f8ae06-bce4-432c-940f-fce47abeb018",
   "metadata": {
    "tags": []
   },
   "outputs": [
    {
     "name": "stdout",
     "output_type": "stream",
     "text": [
      "<class 'pandas.core.frame.DataFrame'>\n",
      "RangeIndex: 569 entries, 0 to 568\n",
      "Data columns (total 30 columns):\n",
      " #   Column                   Non-Null Count  Dtype  \n",
      "---  ------                   --------------  -----  \n",
      " 0   mean radius              569 non-null    float64\n",
      " 1   mean texture             569 non-null    float64\n",
      " 2   mean perimeter           569 non-null    float64\n",
      " 3   mean area                569 non-null    float64\n",
      " 4   mean smoothness          569 non-null    float64\n",
      " 5   mean compactness         569 non-null    float64\n",
      " 6   mean concavity           569 non-null    float64\n",
      " 7   mean concave points      569 non-null    float64\n",
      " 8   mean symmetry            569 non-null    float64\n",
      " 9   mean fractal dimension   569 non-null    float64\n",
      " 10  radius error             569 non-null    float64\n",
      " 11  texture error            569 non-null    float64\n",
      " 12  perimeter error          569 non-null    float64\n",
      " 13  area error               569 non-null    float64\n",
      " 14  smoothness error         569 non-null    float64\n",
      " 15  compactness error        569 non-null    float64\n",
      " 16  concavity error          569 non-null    float64\n",
      " 17  concave points error     569 non-null    float64\n",
      " 18  symmetry error           569 non-null    float64\n",
      " 19  fractal dimension error  569 non-null    float64\n",
      " 20  worst radius             569 non-null    float64\n",
      " 21  worst texture            569 non-null    float64\n",
      " 22  worst perimeter          569 non-null    float64\n",
      " 23  worst area               569 non-null    float64\n",
      " 24  worst smoothness         569 non-null    float64\n",
      " 25  worst compactness        569 non-null    float64\n",
      " 26  worst concavity          569 non-null    float64\n",
      " 27  worst concave points     569 non-null    float64\n",
      " 28  worst symmetry           569 non-null    float64\n",
      " 29  worst fractal dimension  569 non-null    float64\n",
      "dtypes: float64(30)\n",
      "memory usage: 133.5 KB\n"
     ]
    }
   ],
   "source": [
    "data_df.info()"
   ]
  },
  {
   "cell_type": "markdown",
   "id": "17fbaa38-e796-4be0-b88e-6956b9100902",
   "metadata": {},
   "source": [
    "##### Voting분류기"
   ]
  },
  {
   "cell_type": "code",
   "execution_count": 7,
   "id": "db5b712a-2249-4d65-8742-db7e43e48eff",
   "metadata": {},
   "outputs": [],
   "source": [
    "lr_clf = LogisticRegression()"
   ]
  },
  {
   "cell_type": "code",
   "execution_count": 8,
   "id": "51eaaf42-3999-4b40-ad08-a2f476888cd2",
   "metadata": {},
   "outputs": [],
   "source": [
    "knn_clf = KNeighborsClassifier(n_neighbors=8)"
   ]
  },
  {
   "cell_type": "code",
   "execution_count": 9,
   "id": "d1722c3d-6167-4c3a-a415-3ae1e23abdb6",
   "metadata": {},
   "outputs": [],
   "source": [
    "#보팅분류기\n",
    "vo_clf = VotingClassifier([('LR',lr_clf),('KNN',knn_clf)],voting='soft')"
   ]
  },
  {
   "cell_type": "code",
   "execution_count": 10,
   "id": "8915e45a-cc28-449e-8b1b-ac8b72dbd2d0",
   "metadata": {},
   "outputs": [],
   "source": [
    "X_train, X_test, y_train, y_test = train_test_split(cancer.data,\n",
    "                                                   cancer.target,\n",
    "                                                   test_size=0.2,\n",
    "                                                   random_state=156)"
   ]
  },
  {
   "cell_type": "code",
   "execution_count": 11,
   "id": "e40f8b20-2114-4239-b0f5-6f4227bdb06e",
   "metadata": {},
   "outputs": [
    {
     "data": {
      "text/plain": [
       "0.9473684210526315"
      ]
     },
     "execution_count": 11,
     "metadata": {},
     "output_type": "execute_result"
    }
   ],
   "source": [
    "vo_clf.fit(X_train,y_train)\n",
    "pred = vo_clf.predict(X_test)\n",
    "accuracy_score(y_test,pred)"
   ]
  },
  {
   "cell_type": "code",
   "execution_count": 12,
   "id": "63fe293d-b6ab-4dc3-8613-e5a6806827be",
   "metadata": {},
   "outputs": [
    {
     "name": "stdout",
     "output_type": "stream",
     "text": [
      "LogisticRegression 정확도 : 0.9386\n",
      "KNeighborsClassifier 정확도 : 0.9386\n"
     ]
    }
   ],
   "source": [
    "classifiers = [lr_clf, knn_clf]\n",
    "for classifier in classifiers:\n",
    "    classifier.fit(X_train, y_train)\n",
    "    pred = classifier.predict(X_test)\n",
    "    print(f'{classifier.__class__.__name__} 정확도 : {accuracy_score(y_test,pred):.4f}')"
   ]
  },
  {
   "cell_type": "markdown",
   "id": "230fd3b6-d635-4d29-8a15-dd53a14b676a",
   "metadata": {},
   "source": [
    "##### Randomforest 분류기"
   ]
  },
  {
   "cell_type": "code",
   "execution_count": 13,
   "id": "c959fb58-780b-4691-b0de-99fab6d67f5f",
   "metadata": {},
   "outputs": [],
   "source": [
    "from sklearn.ensemble import RandomForestClassifier"
   ]
  },
  {
   "cell_type": "code",
   "execution_count": 14,
   "id": "87782692-20af-445f-8ba8-975d66919a0f",
   "metadata": {},
   "outputs": [],
   "source": [
    "def get_new_feature_name_df(old):\n",
    "    feature_dup_df = pd.DataFrame(data=old.groupby('column_name').cumcount(), \n",
    "                                  columns=['dup_cnt'])\n",
    "    feature_dup_df = feature_dup_df.reset_index()\n",
    "    new_feature_name_df = pd.merge(old.reset_index(), feature_dup_df,how='outer')\n",
    "    new_feature_name_df['column_name'] = new_feature_name_df[['column_name','dup_cnt']].apply(lambda x:x[0]+'_'+str(x[1]) if x[1]>0 else x[0], axis=1)\n",
    "    new_feature_name_df =new_feature_name_df.drop(columns=['index'])\n",
    "    return new_feature_name_df\n",
    "\n",
    "def get_human_dataset():\n",
    "    feature_name_df = pd.read_csv('human_activity/features.txt',\n",
    "                              sep='\\s+',\n",
    "                              header=None,\n",
    "                              names=['column_index','column_name'])\n",
    "    new_feature_name_df = get_new_feature_name_df(feature_name_df)\n",
    "    feature_name = new_feature_name_df.iloc[:,1].values.tolist()\n",
    "    X_train = pd.read_csv('human_activity/train/X_train.txt',sep='\\s+',names=feature_name)\n",
    "    X_test = pd.read_csv('human_activity/test/X_test.txt',sep='\\s+',names=feature_name)\n",
    "    y_train = pd.read_csv('human_activity/train/y_train.txt',sep='\\s+',header=None,names=['action'])\n",
    "    y_test = pd.read_csv('human_activity/test/y_test.txt',sep='\\s+',header=None,names=['action'])\n",
    "    return X_train, X_test, y_train, y_test"
   ]
  },
  {
   "cell_type": "code",
   "execution_count": 15,
   "id": "a86ae203-3ddc-4cd2-866d-527224dd11e3",
   "metadata": {},
   "outputs": [],
   "source": [
    "X_train, X_test, y_train, y_test = get_human_dataset()"
   ]
  },
  {
   "cell_type": "code",
   "execution_count": 16,
   "id": "6b93f7d5-1fb5-4c20-abb1-492063f8ccec",
   "metadata": {},
   "outputs": [
    {
     "data": {
      "text/plain": [
       "0.9253478113335596"
      ]
     },
     "execution_count": 16,
     "metadata": {},
     "output_type": "execute_result"
    }
   ],
   "source": [
    "rf_clf = RandomForestClassifier(random_state=0)\n",
    "rf_clf.fit(X_train, y_train)\n",
    "pred = rf_clf.predict(X_test)\n",
    "accuracy_score(y_test,pred)"
   ]
  },
  {
   "cell_type": "code",
   "execution_count": 17,
   "id": "b931d863-63e9-45df-85d6-21994fffbefb",
   "metadata": {},
   "outputs": [
    {
     "data": {
      "text/plain": [
       "0.9565659993213438"
      ]
     },
     "execution_count": 17,
     "metadata": {},
     "output_type": "execute_result"
    }
   ],
   "source": [
    "vo_clf = VotingClassifier([('LR',lr_clf),('KNN',knn_clf)],voting='soft')\n",
    "vo_clf.fit(X_train,y_train)\n",
    "pred = vo_clf.predict(X_test)\n",
    "accuracy_score(y_test,pred)"
   ]
  },
  {
   "cell_type": "code",
   "execution_count": 18,
   "id": "7363b4ff-5657-44fa-b938-b0c95ae3c128",
   "metadata": {},
   "outputs": [
    {
     "name": "stdout",
     "output_type": "stream",
     "text": [
      "LogisticRegression 정확도 : 0.9593\n",
      "KNeighborsClassifier 정확도 : 0.9074\n"
     ]
    }
   ],
   "source": [
    "classifiers = [lr_clf, knn_clf]\n",
    "for classifier in classifiers:\n",
    "    classifier.fit(X_train, y_train)\n",
    "    pred = classifier.predict(X_test)\n",
    "    print(f'{classifier.__class__.__name__} 정확도 : {accuracy_score(y_test,pred):.4f}')"
   ]
  },
  {
   "cell_type": "code",
   "execution_count": 19,
   "id": "a86ef81c-98e4-4681-9ffa-d3af9e2f6aab",
   "metadata": {},
   "outputs": [],
   "source": [
    "from sklearn.model_selection import GridSearchCV"
   ]
  },
  {
   "cell_type": "code",
   "execution_count": 20,
   "id": "688a44d5-0a50-43d2-ae52-e18cb1feff1c",
   "metadata": {},
   "outputs": [
    {
     "name": "stdout",
     "output_type": "stream",
     "text": [
      "Wall time: 23 s\n"
     ]
    },
    {
     "data": {
      "text/plain": [
       "({'max_depth': 12,\n",
       "  'min_samples_leaf': 5,\n",
       "  'min_samples_split': 18,\n",
       "  'n_estimators': 100},\n",
       " 0.9164853101196954)"
      ]
     },
     "execution_count": 20,
     "metadata": {},
     "output_type": "execute_result"
    }
   ],
   "source": [
    "%%time\n",
    "params = {\n",
    "    'n_estimators':[100],\n",
    "    'max_depth':[6,8,10,12],\n",
    "    'min_samples_split':[8,12,18],\n",
    "    'min_samples_leaf':[5,16,20]\n",
    "}\n",
    "rf_clf = RandomForestClassifier(random_state=0, n_jobs=-1)\n",
    "grid_cv = GridSearchCV(rf_clf, param_grid=params, cv=2, n_jobs=-1)\n",
    "grid_cv.fit(X_train, y_train)\n",
    "grid_cv.best_params_,grid_cv.best_score_"
   ]
  },
  {
   "cell_type": "code",
   "execution_count": 21,
   "id": "aec59aa4-c988-4836-b523-dbbe943ca189",
   "metadata": {},
   "outputs": [
    {
     "data": {
      "text/plain": [
       "0.9175432643366135"
      ]
     },
     "execution_count": 21,
     "metadata": {},
     "output_type": "execute_result"
    }
   ],
   "source": [
    "rf_clf = RandomForestClassifier(max_depth=10,\n",
    "                                min_samples_leaf=8,\n",
    "                                min_samples_split=18,\n",
    "                                n_estimators=300,\n",
    "                                random_state=0)\n",
    "rf_clf.fit(X_train, y_train)\n",
    "pred = rf_clf.predict(X_test)\n",
    "accuracy_score(y_test,pred)"
   ]
  },
  {
   "cell_type": "markdown",
   "id": "aead5778-3d3f-41a6-9c90-af7cb28fd436",
   "metadata": {},
   "source": [
    "#### GBM"
   ]
  },
  {
   "cell_type": "code",
   "execution_count": 22,
   "id": "a697fabe-59e3-4429-bb8e-5e938a04bff8",
   "metadata": {},
   "outputs": [],
   "source": [
    "from sklearn.ensemble import GradientBoostingClassifier"
   ]
  },
  {
   "cell_type": "code",
   "execution_count": 23,
   "id": "67323d8e-bb69-4295-adc3-e6a33859dc8e",
   "metadata": {},
   "outputs": [],
   "source": [
    "X_train, X_test, y_train, y_test = get_human_dataset()"
   ]
  },
  {
   "cell_type": "code",
   "execution_count": 24,
   "id": "1a5621b6-5508-4534-9979-058273ce9e32",
   "metadata": {},
   "outputs": [
    {
     "name": "stdout",
     "output_type": "stream",
     "text": [
      "GBM 정확도 : 0.9389\n",
      "Wall time: 7min 48s\n"
     ]
    }
   ],
   "source": [
    "%%time\n",
    "gb_clf = GradientBoostingClassifier()\n",
    "gb_clf.fit(X_train,y_train)\n",
    "gb_pred = gb_clf.predict(X_test)\n",
    "gb_accuracy = accuracy_score(y_test, gb_pred)\n",
    "print(f'GBM 정확도 : {gb_accuracy:.4f}')"
   ]
  },
  {
   "cell_type": "markdown",
   "id": "dfa425f0-0d3b-45b4-97f5-17c9da0817ba",
   "metadata": {},
   "source": [
    "#### XGBoost"
   ]
  },
  {
   "cell_type": "code",
   "execution_count": 58,
   "id": "eb293f05-e639-4a8c-a5cb-ce01e1ae79ec",
   "metadata": {},
   "outputs": [],
   "source": [
    "import xgboost as xgb\n",
    "from xgboost import plot_importance\n",
    "import pandas as pd\n",
    "import numpy as np\n",
    "from sklearn.datasets import load_breast_cancer\n",
    "from sklearn.model_selection import train_test_split\n",
    "import warnings\n",
    "warnings.filterwarnings('ignore')\n",
    "from sklearn.metrics import confusion_matrix, precision_score, recall_score, f1_score, roc_auc_score, roc_curve\n",
    "import matplotlib.pyplot as plt"
   ]
  },
  {
   "cell_type": "code",
   "execution_count": 28,
   "id": "3896023c-5b31-4e66-94f4-4da1a9f6a188",
   "metadata": {},
   "outputs": [],
   "source": [
    "dataset = load_breast_cancer()\n",
    "X_features = dataset.data\n",
    "y_label = dataset.target"
   ]
  },
  {
   "cell_type": "code",
   "execution_count": 29,
   "id": "57791827-5bac-4375-b398-8ce83b71fd10",
   "metadata": {},
   "outputs": [
    {
     "data": {
      "text/html": [
       "<div>\n",
       "<style scoped>\n",
       "    .dataframe tbody tr th:only-of-type {\n",
       "        vertical-align: middle;\n",
       "    }\n",
       "\n",
       "    .dataframe tbody tr th {\n",
       "        vertical-align: top;\n",
       "    }\n",
       "\n",
       "    .dataframe thead th {\n",
       "        text-align: right;\n",
       "    }\n",
       "</style>\n",
       "<table border=\"1\" class=\"dataframe\">\n",
       "  <thead>\n",
       "    <tr style=\"text-align: right;\">\n",
       "      <th></th>\n",
       "      <th>mean radius</th>\n",
       "      <th>mean texture</th>\n",
       "      <th>mean perimeter</th>\n",
       "      <th>mean area</th>\n",
       "      <th>mean smoothness</th>\n",
       "      <th>mean compactness</th>\n",
       "      <th>mean concavity</th>\n",
       "      <th>mean concave points</th>\n",
       "      <th>mean symmetry</th>\n",
       "      <th>mean fractal dimension</th>\n",
       "      <th>...</th>\n",
       "      <th>worst texture</th>\n",
       "      <th>worst perimeter</th>\n",
       "      <th>worst area</th>\n",
       "      <th>worst smoothness</th>\n",
       "      <th>worst compactness</th>\n",
       "      <th>worst concavity</th>\n",
       "      <th>worst concave points</th>\n",
       "      <th>worst symmetry</th>\n",
       "      <th>worst fractal dimension</th>\n",
       "      <th>target</th>\n",
       "    </tr>\n",
       "  </thead>\n",
       "  <tbody>\n",
       "    <tr>\n",
       "      <th>0</th>\n",
       "      <td>17.99</td>\n",
       "      <td>10.38</td>\n",
       "      <td>122.8</td>\n",
       "      <td>1001.0</td>\n",
       "      <td>0.11840</td>\n",
       "      <td>0.27760</td>\n",
       "      <td>0.3001</td>\n",
       "      <td>0.14710</td>\n",
       "      <td>0.2419</td>\n",
       "      <td>0.07871</td>\n",
       "      <td>...</td>\n",
       "      <td>17.33</td>\n",
       "      <td>184.6</td>\n",
       "      <td>2019.0</td>\n",
       "      <td>0.1622</td>\n",
       "      <td>0.6656</td>\n",
       "      <td>0.7119</td>\n",
       "      <td>0.2654</td>\n",
       "      <td>0.4601</td>\n",
       "      <td>0.11890</td>\n",
       "      <td>0</td>\n",
       "    </tr>\n",
       "    <tr>\n",
       "      <th>1</th>\n",
       "      <td>20.57</td>\n",
       "      <td>17.77</td>\n",
       "      <td>132.9</td>\n",
       "      <td>1326.0</td>\n",
       "      <td>0.08474</td>\n",
       "      <td>0.07864</td>\n",
       "      <td>0.0869</td>\n",
       "      <td>0.07017</td>\n",
       "      <td>0.1812</td>\n",
       "      <td>0.05667</td>\n",
       "      <td>...</td>\n",
       "      <td>23.41</td>\n",
       "      <td>158.8</td>\n",
       "      <td>1956.0</td>\n",
       "      <td>0.1238</td>\n",
       "      <td>0.1866</td>\n",
       "      <td>0.2416</td>\n",
       "      <td>0.1860</td>\n",
       "      <td>0.2750</td>\n",
       "      <td>0.08902</td>\n",
       "      <td>0</td>\n",
       "    </tr>\n",
       "  </tbody>\n",
       "</table>\n",
       "<p>2 rows × 31 columns</p>\n",
       "</div>"
      ],
      "text/plain": [
       "   mean radius  mean texture  mean perimeter  mean area  mean smoothness  \\\n",
       "0        17.99         10.38           122.8     1001.0          0.11840   \n",
       "1        20.57         17.77           132.9     1326.0          0.08474   \n",
       "\n",
       "   mean compactness  mean concavity  mean concave points  mean symmetry  \\\n",
       "0           0.27760          0.3001              0.14710         0.2419   \n",
       "1           0.07864          0.0869              0.07017         0.1812   \n",
       "\n",
       "   mean fractal dimension  ...  worst texture  worst perimeter  worst area  \\\n",
       "0                 0.07871  ...          17.33            184.6      2019.0   \n",
       "1                 0.05667  ...          23.41            158.8      1956.0   \n",
       "\n",
       "   worst smoothness  worst compactness  worst concavity  worst concave points  \\\n",
       "0            0.1622             0.6656           0.7119                0.2654   \n",
       "1            0.1238             0.1866           0.2416                0.1860   \n",
       "\n",
       "   worst symmetry  worst fractal dimension  target  \n",
       "0          0.4601                  0.11890       0  \n",
       "1          0.2750                  0.08902       0  \n",
       "\n",
       "[2 rows x 31 columns]"
      ]
     },
     "execution_count": 29,
     "metadata": {},
     "output_type": "execute_result"
    }
   ],
   "source": [
    "cancer_df = pd.DataFrame(data=X_features, columns=dataset.feature_names)\n",
    "cancer_df['target'] = y_label\n",
    "cancer_df.head(2)"
   ]
  },
  {
   "cell_type": "code",
   "execution_count": 30,
   "id": "3a080a28-b6e6-4f05-a458-84c713962be2",
   "metadata": {},
   "outputs": [
    {
     "data": {
      "text/plain": [
       "array(['malignant', 'benign'], dtype='<U9')"
      ]
     },
     "execution_count": 30,
     "metadata": {},
     "output_type": "execute_result"
    }
   ],
   "source": [
    "dataset.target_names"
   ]
  },
  {
   "cell_type": "code",
   "execution_count": 31,
   "id": "1f58cafc-471e-40b7-9629-1c8fbce9069c",
   "metadata": {},
   "outputs": [
    {
     "data": {
      "text/plain": [
       "1    357\n",
       "0    212\n",
       "Name: target, dtype: int64"
      ]
     },
     "execution_count": 31,
     "metadata": {},
     "output_type": "execute_result"
    }
   ],
   "source": [
    "cancer_df['target'].value_counts()"
   ]
  },
  {
   "cell_type": "code",
   "execution_count": 32,
   "id": "52d10365-c35e-4dc3-b95c-c316eb85155c",
   "metadata": {},
   "outputs": [],
   "source": [
    "X_train, X_test, y_train, y_test = train_test_split(X_features,\n",
    "                                                    y_label,\n",
    "                                                    test_size=0.2,\n",
    "                                                    random_state=156)"
   ]
  },
  {
   "cell_type": "code",
   "execution_count": 33,
   "id": "f0499de3-19f5-43cf-a0a2-289722b5c918",
   "metadata": {},
   "outputs": [
    {
     "data": {
      "text/plain": [
       "((455, 30), (114, 30))"
      ]
     },
     "execution_count": 33,
     "metadata": {},
     "output_type": "execute_result"
    }
   ],
   "source": [
    "X_train.shape, X_test.shape"
   ]
  },
  {
   "cell_type": "code",
   "execution_count": 34,
   "id": "0dd4b9ea-992f-43d8-bdc8-89af0410d166",
   "metadata": {},
   "outputs": [],
   "source": [
    "dtrain = xgb.DMatrix(data=X_train, label=y_train)\n",
    "dtest = xgb.DMatrix(data=X_test, label=y_test)"
   ]
  },
  {
   "cell_type": "code",
   "execution_count": 36,
   "id": "720f46eb-1696-41ff-9637-6fe0912b0858",
   "metadata": {
    "collapsed": true,
    "jupyter": {
     "outputs_hidden": true
    },
    "tags": []
   },
   "outputs": [
    {
     "name": "stdout",
     "output_type": "stream",
     "text": [
      "[16:14:11] WARNING: C:/Users/Administrator/workspace/xgboost-win64_release_1.5.1/src/learner.cc:576: \n",
      "Parameters: { \"early_stoppings\" } might not be used.\n",
      "\n",
      "  This could be a false alarm, with some parameters getting used by language bindings but\n",
      "  then being mistakenly passed down to XGBoost core, or some parameter actually being used\n",
      "  but getting flagged wrongly here. Please open an issue if you find any such cases.\n",
      "\n",
      "\n",
      "[0]\ttrain-logloss:0.46775\ttest(=eval)-logloss:0.47984\n",
      "[1]\ttrain-logloss:0.33578\ttest(=eval)-logloss:0.36218\n",
      "[2]\ttrain-logloss:0.25254\ttest(=eval)-logloss:0.29004\n",
      "[3]\ttrain-logloss:0.19584\ttest(=eval)-logloss:0.23382\n",
      "[4]\ttrain-logloss:0.15664\ttest(=eval)-logloss:0.19901\n",
      "[5]\ttrain-logloss:0.12663\ttest(=eval)-logloss:0.17469\n",
      "[6]\ttrain-logloss:0.10353\ttest(=eval)-logloss:0.15549\n",
      "[7]\ttrain-logloss:0.08545\ttest(=eval)-logloss:0.13367\n",
      "[8]\ttrain-logloss:0.07277\ttest(=eval)-logloss:0.12411\n",
      "[9]\ttrain-logloss:0.06333\ttest(=eval)-logloss:0.11611\n",
      "[10]\ttrain-logloss:0.05484\ttest(=eval)-logloss:0.10768\n",
      "[11]\ttrain-logloss:0.04787\ttest(=eval)-logloss:0.10018\n",
      "[12]\ttrain-logloss:0.04334\ttest(=eval)-logloss:0.09754\n",
      "[13]\ttrain-logloss:0.03794\ttest(=eval)-logloss:0.08920\n",
      "[14]\ttrain-logloss:0.03308\ttest(=eval)-logloss:0.09259\n",
      "[15]\ttrain-logloss:0.02942\ttest(=eval)-logloss:0.09144\n",
      "[16]\ttrain-logloss:0.02689\ttest(=eval)-logloss:0.09066\n",
      "[17]\ttrain-logloss:0.02439\ttest(=eval)-logloss:0.09058\n",
      "[18]\ttrain-logloss:0.02226\ttest(=eval)-logloss:0.08894\n",
      "[19]\ttrain-logloss:0.02053\ttest(=eval)-logloss:0.08622\n",
      "[20]\ttrain-logloss:0.01891\ttest(=eval)-logloss:0.08694\n",
      "[21]\ttrain-logloss:0.01766\ttest(=eval)-logloss:0.08437\n",
      "[22]\ttrain-logloss:0.01649\ttest(=eval)-logloss:0.08092\n",
      "[23]\ttrain-logloss:0.01547\ttest(=eval)-logloss:0.08404\n",
      "[24]\ttrain-logloss:0.01457\ttest(=eval)-logloss:0.08252\n",
      "[25]\ttrain-logloss:0.01381\ttest(=eval)-logloss:0.08363\n",
      "[26]\ttrain-logloss:0.01322\ttest(=eval)-logloss:0.08221\n",
      "[27]\ttrain-logloss:0.01285\ttest(=eval)-logloss:0.08006\n",
      "[28]\ttrain-logloss:0.01222\ttest(=eval)-logloss:0.08012\n",
      "[29]\ttrain-logloss:0.01170\ttest(=eval)-logloss:0.08106\n",
      "[30]\ttrain-logloss:0.01127\ttest(=eval)-logloss:0.07912\n",
      "[31]\ttrain-logloss:0.01086\ttest(=eval)-logloss:0.07902\n",
      "[32]\ttrain-logloss:0.01044\ttest(=eval)-logloss:0.07828\n",
      "[33]\ttrain-logloss:0.01009\ttest(=eval)-logloss:0.07763\n",
      "[34]\ttrain-logloss:0.00977\ttest(=eval)-logloss:0.07815\n",
      "[35]\ttrain-logloss:0.00948\ttest(=eval)-logloss:0.07717\n",
      "[36]\ttrain-logloss:0.00916\ttest(=eval)-logloss:0.08030\n",
      "[37]\ttrain-logloss:0.00899\ttest(=eval)-logloss:0.07981\n",
      "[38]\ttrain-logloss:0.00875\ttest(=eval)-logloss:0.07970\n",
      "[39]\ttrain-logloss:0.00862\ttest(=eval)-logloss:0.07979\n",
      "[40]\ttrain-logloss:0.00842\ttest(=eval)-logloss:0.08142\n",
      "[41]\ttrain-logloss:0.00826\ttest(=eval)-logloss:0.08108\n",
      "[42]\ttrain-logloss:0.00817\ttest(=eval)-logloss:0.08093\n",
      "[43]\ttrain-logloss:0.00791\ttest(=eval)-logloss:0.08288\n",
      "[44]\ttrain-logloss:0.00783\ttest(=eval)-logloss:0.08297\n",
      "[45]\ttrain-logloss:0.00775\ttest(=eval)-logloss:0.08286\n",
      "[46]\ttrain-logloss:0.00757\ttest(=eval)-logloss:0.08421\n",
      "[47]\ttrain-logloss:0.00749\ttest(=eval)-logloss:0.08398\n",
      "[48]\ttrain-logloss:0.00741\ttest(=eval)-logloss:0.08323\n",
      "[49]\ttrain-logloss:0.00734\ttest(=eval)-logloss:0.08398\n",
      "[50]\ttrain-logloss:0.00727\ttest(=eval)-logloss:0.08317\n",
      "[51]\ttrain-logloss:0.00721\ttest(=eval)-logloss:0.08331\n",
      "[52]\ttrain-logloss:0.00714\ttest(=eval)-logloss:0.08325\n",
      "[53]\ttrain-logloss:0.00708\ttest(=eval)-logloss:0.08248\n",
      "[54]\ttrain-logloss:0.00702\ttest(=eval)-logloss:0.08220\n",
      "[55]\ttrain-logloss:0.00696\ttest(=eval)-logloss:0.08152\n",
      "[56]\ttrain-logloss:0.00690\ttest(=eval)-logloss:0.08139\n",
      "[57]\ttrain-logloss:0.00683\ttest(=eval)-logloss:0.08152\n",
      "[58]\ttrain-logloss:0.00678\ttest(=eval)-logloss:0.08088\n",
      "[59]\ttrain-logloss:0.00672\ttest(=eval)-logloss:0.08083\n",
      "[60]\ttrain-logloss:0.00667\ttest(=eval)-logloss:0.08148\n",
      "[61]\ttrain-logloss:0.00662\ttest(=eval)-logloss:0.08076\n",
      "[62]\ttrain-logloss:0.00656\ttest(=eval)-logloss:0.08069\n",
      "[63]\ttrain-logloss:0.00652\ttest(=eval)-logloss:0.08011\n",
      "[64]\ttrain-logloss:0.00647\ttest(=eval)-logloss:0.07985\n",
      "[65]\ttrain-logloss:0.00642\ttest(=eval)-logloss:0.08013\n",
      "[66]\ttrain-logloss:0.00637\ttest(=eval)-logloss:0.08075\n",
      "[67]\ttrain-logloss:0.00633\ttest(=eval)-logloss:0.08075\n",
      "[68]\ttrain-logloss:0.00628\ttest(=eval)-logloss:0.08018\n",
      "[69]\ttrain-logloss:0.00624\ttest(=eval)-logloss:0.08022\n",
      "[70]\ttrain-logloss:0.00620\ttest(=eval)-logloss:0.08028\n",
      "[71]\ttrain-logloss:0.00615\ttest(=eval)-logloss:0.08027\n",
      "[72]\ttrain-logloss:0.00612\ttest(=eval)-logloss:0.08066\n",
      "[73]\ttrain-logloss:0.00607\ttest(=eval)-logloss:0.08046\n",
      "[74]\ttrain-logloss:0.00604\ttest(=eval)-logloss:0.08022\n",
      "[75]\ttrain-logloss:0.00600\ttest(=eval)-logloss:0.08049\n",
      "[76]\ttrain-logloss:0.00596\ttest(=eval)-logloss:0.08103\n",
      "[77]\ttrain-logloss:0.00592\ttest(=eval)-logloss:0.08086\n",
      "[78]\ttrain-logloss:0.00589\ttest(=eval)-logloss:0.08093\n",
      "[79]\ttrain-logloss:0.00585\ttest(=eval)-logloss:0.08098\n",
      "[80]\ttrain-logloss:0.00582\ttest(=eval)-logloss:0.08100\n",
      "[81]\ttrain-logloss:0.00579\ttest(=eval)-logloss:0.08151\n",
      "[82]\ttrain-logloss:0.00576\ttest(=eval)-logloss:0.08136\n",
      "[83]\ttrain-logloss:0.00573\ttest(=eval)-logloss:0.08115\n",
      "[84]\ttrain-logloss:0.00570\ttest(=eval)-logloss:0.08078\n",
      "[85]\ttrain-logloss:0.00567\ttest(=eval)-logloss:0.08082\n",
      "[86]\ttrain-logloss:0.00564\ttest(=eval)-logloss:0.08086\n",
      "[87]\ttrain-logloss:0.00562\ttest(=eval)-logloss:0.08052\n",
      "[88]\ttrain-logloss:0.00559\ttest(=eval)-logloss:0.08057\n",
      "[89]\ttrain-logloss:0.00557\ttest(=eval)-logloss:0.08081\n",
      "[90]\ttrain-logloss:0.00554\ttest(=eval)-logloss:0.08051\n",
      "[91]\ttrain-logloss:0.00552\ttest(=eval)-logloss:0.08086\n",
      "[92]\ttrain-logloss:0.00549\ttest(=eval)-logloss:0.08069\n",
      "[93]\ttrain-logloss:0.00547\ttest(=eval)-logloss:0.08040\n",
      "[94]\ttrain-logloss:0.00545\ttest(=eval)-logloss:0.08045\n",
      "[95]\ttrain-logloss:0.00543\ttest(=eval)-logloss:0.08050\n",
      "[96]\ttrain-logloss:0.00541\ttest(=eval)-logloss:0.08072\n",
      "[97]\ttrain-logloss:0.00539\ttest(=eval)-logloss:0.08045\n",
      "[98]\ttrain-logloss:0.00537\ttest(=eval)-logloss:0.08078\n",
      "[99]\ttrain-logloss:0.00535\ttest(=eval)-logloss:0.08044\n",
      "[100]\ttrain-logloss:0.00533\ttest(=eval)-logloss:0.08018\n",
      "[101]\ttrain-logloss:0.00531\ttest(=eval)-logloss:0.08049\n",
      "[102]\ttrain-logloss:0.00529\ttest(=eval)-logloss:0.08070\n",
      "[103]\ttrain-logloss:0.00527\ttest(=eval)-logloss:0.08045\n",
      "[104]\ttrain-logloss:0.00526\ttest(=eval)-logloss:0.08013\n",
      "[105]\ttrain-logloss:0.00524\ttest(=eval)-logloss:0.08007\n",
      "[106]\ttrain-logloss:0.00522\ttest(=eval)-logloss:0.08011\n",
      "[107]\ttrain-logloss:0.00520\ttest(=eval)-logloss:0.07986\n",
      "[108]\ttrain-logloss:0.00519\ttest(=eval)-logloss:0.08016\n",
      "[109]\ttrain-logloss:0.00517\ttest(=eval)-logloss:0.08036\n",
      "[110]\ttrain-logloss:0.00515\ttest(=eval)-logloss:0.08013\n",
      "[111]\ttrain-logloss:0.00514\ttest(=eval)-logloss:0.08019\n",
      "[112]\ttrain-logloss:0.00512\ttest(=eval)-logloss:0.08023\n",
      "[113]\ttrain-logloss:0.00511\ttest(=eval)-logloss:0.07999\n",
      "[114]\ttrain-logloss:0.00509\ttest(=eval)-logloss:0.08028\n",
      "[115]\ttrain-logloss:0.00508\ttest(=eval)-logloss:0.08048\n",
      "[116]\ttrain-logloss:0.00506\ttest(=eval)-logloss:0.08017\n",
      "[117]\ttrain-logloss:0.00505\ttest(=eval)-logloss:0.07995\n",
      "[118]\ttrain-logloss:0.00503\ttest(=eval)-logloss:0.07990\n",
      "[119]\ttrain-logloss:0.00502\ttest(=eval)-logloss:0.07994\n",
      "[120]\ttrain-logloss:0.00501\ttest(=eval)-logloss:0.07997\n",
      "[121]\ttrain-logloss:0.00500\ttest(=eval)-logloss:0.08002\n",
      "[122]\ttrain-logloss:0.00498\ttest(=eval)-logloss:0.08006\n",
      "[123]\ttrain-logloss:0.00497\ttest(=eval)-logloss:0.07986\n",
      "[124]\ttrain-logloss:0.00496\ttest(=eval)-logloss:0.08012\n",
      "[125]\ttrain-logloss:0.00494\ttest(=eval)-logloss:0.08031\n",
      "[126]\ttrain-logloss:0.00493\ttest(=eval)-logloss:0.08004\n",
      "[127]\ttrain-logloss:0.00492\ttest(=eval)-logloss:0.07984\n",
      "[128]\ttrain-logloss:0.00491\ttest(=eval)-logloss:0.08009\n",
      "[129]\ttrain-logloss:0.00490\ttest(=eval)-logloss:0.07974\n",
      "[130]\ttrain-logloss:0.00489\ttest(=eval)-logloss:0.07978\n",
      "[131]\ttrain-logloss:0.00488\ttest(=eval)-logloss:0.07982\n",
      "[132]\ttrain-logloss:0.00487\ttest(=eval)-logloss:0.07963\n",
      "[133]\ttrain-logloss:0.00486\ttest(=eval)-logloss:0.07980\n",
      "[134]\ttrain-logloss:0.00485\ttest(=eval)-logloss:0.07956\n"
     ]
    }
   ],
   "source": [
    "params = {\n",
    "    'max_depth':3,\n",
    "    'objective':'binary:logistic',\n",
    "    'eval_metric':'logloss',\n",
    "    'early_stoppings':100\n",
    "}\n",
    "num_rounds=400\n",
    "\n",
    "wlist = [(dtrain,'train'),(dtest,'test(=eval)')]\n",
    "xgb_model = xgb.train(params = params,\n",
    "                      dtrain = dtrain,\n",
    "                      num_boost_round = num_rounds,\n",
    "                      early_stopping_rounds = 100,\n",
    "                      evals = wlist)"
   ]
  },
  {
   "cell_type": "code",
   "execution_count": 38,
   "id": "531d4833-b4a9-498a-83fa-f4f52e9aa752",
   "metadata": {
    "collapsed": true,
    "jupyter": {
     "outputs_hidden": true
    },
    "tags": []
   },
   "outputs": [
    {
     "data": {
      "text/plain": [
       "array([9.7849441e-01, 3.8310601e-03, 9.4475126e-01, 5.4276973e-02,\n",
       "       9.9449289e-01, 9.9998605e-01, 9.9978822e-01, 9.9959677e-01,\n",
       "       9.9818242e-01, 7.6262520e-05, 8.5400556e-05, 8.7273998e-05,\n",
       "       9.9985099e-01, 9.9994135e-01, 9.9899274e-01, 9.9138582e-01,\n",
       "       9.9554789e-01, 9.9993980e-01, 9.9968743e-01, 9.9975663e-01,\n",
       "       8.0555456e-04, 5.5488956e-01, 1.2712798e-04, 9.9998760e-01,\n",
       "       1.5862775e-04, 6.6383767e-01, 2.2517648e-03, 1.5270994e-04,\n",
       "       9.9968803e-01, 5.2804612e-02, 9.9891365e-01, 1.6868571e-04,\n",
       "       9.9267286e-01, 7.9403830e-01, 1.2954368e-03, 5.3546857e-05,\n",
       "       9.9951720e-01, 9.9932575e-01, 3.0032575e-01, 9.9990332e-01,\n",
       "       1.1817576e-01, 9.9840575e-01, 9.9957114e-01, 9.9984813e-01,\n",
       "       9.9951065e-01, 9.8719770e-01, 9.1385338e-03, 9.9985731e-01,\n",
       "       9.9958748e-01, 9.9985397e-01, 9.9906081e-01, 2.7417587e-04,\n",
       "       9.9958986e-01, 9.9991405e-01, 9.9980885e-01, 9.9966490e-01,\n",
       "       9.9993479e-01, 9.9475622e-01, 9.9967134e-01, 9.7636569e-01,\n",
       "       9.9941730e-01, 9.7283292e-01, 4.9203954e-04, 4.8878597e-04,\n",
       "       9.9975282e-01, 9.9944812e-01, 4.2887981e-04, 9.8388737e-01,\n",
       "       9.9994040e-01, 9.9980778e-01, 2.6466901e-04, 9.9913990e-01,\n",
       "       2.5339038e-04, 9.9901426e-01, 9.9951744e-01, 1.8103603e-04,\n",
       "       9.9988353e-01, 9.9992490e-01, 9.9996495e-01, 5.5823028e-05,\n",
       "       8.3710416e-05, 9.9093139e-01, 9.9972683e-01, 9.9975520e-01,\n",
       "       9.9961036e-01, 9.9533647e-01, 9.9917442e-01, 9.9981135e-01,\n",
       "       9.9252510e-01, 1.0832118e-04, 2.8525716e-01, 9.9994242e-01,\n",
       "       6.6945190e-04, 1.4517744e-03, 9.9983025e-01, 3.5453173e-03,\n",
       "       3.6355583e-03, 9.9918562e-01, 2.2223129e-04, 8.4803885e-01,\n",
       "       2.0040150e-03, 5.1954924e-04, 9.9718481e-01, 9.9763262e-01,\n",
       "       3.8066155e-01, 9.9904412e-01, 9.9960202e-01, 9.8497438e-01,\n",
       "       9.9959022e-01, 9.9995112e-01, 4.9015266e-01, 9.9951911e-01,\n",
       "       9.9946922e-01, 9.9909735e-01], dtype=float32)"
      ]
     },
     "execution_count": 38,
     "metadata": {},
     "output_type": "execute_result"
    }
   ],
   "source": [
    "pred_probs = xgb_model.predict(dtest)\n",
    "pred_probs"
   ]
  },
  {
   "cell_type": "code",
   "execution_count": 39,
   "id": "1f74b1e6-9b1e-4209-b2c5-8b550d25dcb0",
   "metadata": {},
   "outputs": [
    {
     "data": {
      "text/plain": [
       "array([0.978, 0.004, 0.945, 0.054, 0.994, 1.   , 1.   , 1.   , 0.998,\n",
       "       0.   ], dtype=float32)"
      ]
     },
     "execution_count": 39,
     "metadata": {},
     "output_type": "execute_result"
    }
   ],
   "source": [
    "np.round(pred_probs,3)[:10]"
   ]
  },
  {
   "cell_type": "code",
   "execution_count": 40,
   "id": "cc1b2c36-b29d-4322-af15-296ee0b027fb",
   "metadata": {},
   "outputs": [],
   "source": [
    "preds = [1 if x > 0.5 else 0 for x in pred_probs]"
   ]
  },
  {
   "cell_type": "code",
   "execution_count": 41,
   "id": "d7f232a6-506d-4e22-a578-1030720ad409",
   "metadata": {},
   "outputs": [
    {
     "data": {
      "text/plain": [
       "[1, 0, 1, 0, 1, 1, 1, 1, 1, 0]"
      ]
     },
     "execution_count": 41,
     "metadata": {},
     "output_type": "execute_result"
    }
   ],
   "source": [
    "preds[:10]"
   ]
  },
  {
   "cell_type": "code",
   "execution_count": 46,
   "id": "e7d5847f-f3a2-423b-94b7-afcd1f8af679",
   "metadata": {},
   "outputs": [],
   "source": [
    "def get_clf_eval(y_test, pred, pred_proba):\n",
    "    confusion = confusion_matrix(y_test, pred)\n",
    "    accuracy = accuracy_score(y_test, pred)\n",
    "    precision = precision_score(y_test, pred)\n",
    "    recall = recall_score(y_test, pred)\n",
    "    f1 = f1_score(y_test, pred)\n",
    "    auc = roc_auc_score(y_test, pred_proba)\n",
    "    print(\"오차행렬\")\n",
    "    print(confusion)\n",
    "    print(f\"정확도 : {accuracy:.4f}, 정밀도 : {precision:.4f}, 재현율 : {recall:.4f}, F1 : {f1:.4f}, AUC : {auc:.4f}\")"
   ]
  },
  {
   "cell_type": "code",
   "execution_count": 55,
   "id": "658f54fb-0b22-4ec2-9c0e-6620e37cfce1",
   "metadata": {},
   "outputs": [
    {
     "name": "stdout",
     "output_type": "stream",
     "text": [
      "오차행렬\n",
      "[[35  2]\n",
      " [ 2 75]]\n",
      "정확도 : 0.9649, 정밀도 : 0.9740, 재현율 : 0.9740, F1 : 0.9740, AUC : 0.9961\n"
     ]
    }
   ],
   "source": [
    "get_clf_eval(y_test, preds, pred_probs)"
   ]
  },
  {
   "cell_type": "code",
   "execution_count": 59,
   "id": "5aeffb31-77b5-4279-a3cd-f367bc8b78ef",
   "metadata": {},
   "outputs": [
    {
     "data": {
      "text/plain": [
       "<AxesSubplot:title={'center':'Feature importance'}, xlabel='F score', ylabel='Features'>"
      ]
     },
     "execution_count": 59,
     "metadata": {},
     "output_type": "execute_result"
    },
    {
     "data": {
      "image/png": "[encoded data removed]",
      "text/plain": [
       "<Figure size 720x864 with 1 Axes>"
      ]
     },
     "metadata": {
      "needs_background": "light"
     },
     "output_type": "display_data"
    }
   ],
   "source": [
    "fig, ax = plt.subplots(figsize=(10,12))\n",
    "plot_importance(xgb_model,ax)"
   ]
  },
  {
   "cell_type": "code",
   "execution_count": 60,
   "id": "8976fcec-a994-4a7f-a4b9-05ec564a4351",
   "metadata": {},
   "outputs": [],
   "source": [
    "from xgboost import XGBClassifier"
   ]
  },
  {
   "cell_type": "code",
   "execution_count": 64,
   "id": "a98c4d6a-edd5-4b67-bbcd-92a98df0d7e0",
   "metadata": {},
   "outputs": [
    {
     "name": "stdout",
     "output_type": "stream",
     "text": [
      "[16:45:27] WARNING: C:/Users/Administrator/workspace/xgboost-win64_release_1.5.1/src/learner.cc:576: \n",
      "Parameters: { \"learnin_rate\" } might not be used.\n",
      "\n",
      "  This could be a false alarm, with some parameters getting used by language bindings but\n",
      "  then being mistakenly passed down to XGBoost core, or some parameter actually being used\n",
      "  but getting flagged wrongly here. Please open an issue if you find any such cases.\n",
      "\n",
      "\n",
      "[16:45:27] WARNING: C:/Users/Administrator/workspace/xgboost-win64_release_1.5.1/src/learner.cc:1115: Starting in XGBoost 1.3.0, the default evaluation metric used with the objective 'binary:logistic' was changed from 'error' to 'logloss'. Explicitly set eval_metric if you'd like to restore the old behavior.\n",
      "오차행렬\n",
      "[[35  2]\n",
      " [ 1 76]]\n",
      "정확도 : 0.9737, 정밀도 : 0.9744, 재현율 : 0.9870, F1 : 0.9806, AUC : 0.9961\n"
     ]
    }
   ],
   "source": [
    "xgb_wrapper = XGBClassifier(n_estimators=400, learnin_rate=0.1, max_depth=3)\n",
    "xgb_wrapper.fit(X_train, y_train)\n",
    "w_pred = xgb_wrapper.predict(X_test)\n",
    "w_pred_proba = xgb_wrapper.predict_proba(X_test)[:,1]\n",
    "get_clf_eval(y_test, w_pred, w_pred_proba)"
   ]
  },
  {
   "cell_type": "code",
   "execution_count": 67,
   "id": "0b892aee-af62-4c59-9a84-6a634af0a929",
   "metadata": {
    "tags": []
   },
   "outputs": [
    {
     "name": "stdout",
     "output_type": "stream",
     "text": [
      "[16:54:21] WARNING: C:/Users/Administrator/workspace/xgboost-win64_release_1.5.1/src/learner.cc:576: \n",
      "Parameters: { \"learnin_rate\" } might not be used.\n",
      "\n",
      "  This could be a false alarm, with some parameters getting used by language bindings but\n",
      "  then being mistakenly passed down to XGBoost core, or some parameter actually being used\n",
      "  but getting flagged wrongly here. Please open an issue if you find any such cases.\n",
      "\n",
      "\n",
      "[0]\tvalidation_0-logloss:0.47984\n",
      "[1]\tvalidation_0-logloss:0.36218\n",
      "[2]\tvalidation_0-logloss:0.29004\n",
      "[3]\tvalidation_0-logloss:0.23382\n",
      "[4]\tvalidation_0-logloss:0.19901\n",
      "[5]\tvalidation_0-logloss:0.17469\n",
      "[6]\tvalidation_0-logloss:0.15549\n",
      "[7]\tvalidation_0-logloss:0.13367\n",
      "[8]\tvalidation_0-logloss:0.12411\n",
      "[9]\tvalidation_0-logloss:0.11611\n",
      "[10]\tvalidation_0-logloss:0.10768\n",
      "[11]\tvalidation_0-logloss:0.10018\n",
      "[12]\tvalidation_0-logloss:0.09754\n",
      "[13]\tvalidation_0-logloss:0.08920\n",
      "[14]\tvalidation_0-logloss:0.09259\n",
      "[15]\tvalidation_0-logloss:0.09144\n",
      "[16]\tvalidation_0-logloss:0.09066\n",
      "[17]\tvalidation_0-logloss:0.09058\n",
      "[18]\tvalidation_0-logloss:0.08894\n",
      "[19]\tvalidation_0-logloss:0.08622\n",
      "[20]\tvalidation_0-logloss:0.08694\n",
      "[21]\tvalidation_0-logloss:0.08437\n",
      "[22]\tvalidation_0-logloss:0.08092\n",
      "[23]\tvalidation_0-logloss:0.08404\n",
      "[24]\tvalidation_0-logloss:0.08252\n",
      "[25]\tvalidation_0-logloss:0.08363\n",
      "[26]\tvalidation_0-logloss:0.08221\n",
      "[27]\tvalidation_0-logloss:0.08006\n",
      "[28]\tvalidation_0-logloss:0.08012\n",
      "[29]\tvalidation_0-logloss:0.08106\n",
      "[30]\tvalidation_0-logloss:0.07912\n",
      "[31]\tvalidation_0-logloss:0.07902\n",
      "[32]\tvalidation_0-logloss:0.07828\n",
      "[33]\tvalidation_0-logloss:0.07763\n",
      "[34]\tvalidation_0-logloss:0.07815\n",
      "[35]\tvalidation_0-logloss:0.07717\n",
      "[36]\tvalidation_0-logloss:0.08030\n",
      "[37]\tvalidation_0-logloss:0.07981\n",
      "[38]\tvalidation_0-logloss:0.07970\n",
      "[39]\tvalidation_0-logloss:0.07979\n",
      "[40]\tvalidation_0-logloss:0.08142\n",
      "[41]\tvalidation_0-logloss:0.08108\n",
      "[42]\tvalidation_0-logloss:0.08093\n",
      "[43]\tvalidation_0-logloss:0.08288\n",
      "[44]\tvalidation_0-logloss:0.08297\n",
      "[45]\tvalidation_0-logloss:0.08286\n",
      "[46]\tvalidation_0-logloss:0.08421\n",
      "[47]\tvalidation_0-logloss:0.08398\n",
      "[48]\tvalidation_0-logloss:0.08323\n",
      "[49]\tvalidation_0-logloss:0.08398\n",
      "[50]\tvalidation_0-logloss:0.08317\n",
      "[51]\tvalidation_0-logloss:0.08331\n",
      "[52]\tvalidation_0-logloss:0.08325\n",
      "[53]\tvalidation_0-logloss:0.08248\n",
      "[54]\tvalidation_0-logloss:0.08220\n",
      "[55]\tvalidation_0-logloss:0.08152\n",
      "[56]\tvalidation_0-logloss:0.08139\n",
      "[57]\tvalidation_0-logloss:0.08152\n",
      "[58]\tvalidation_0-logloss:0.08088\n",
      "[59]\tvalidation_0-logloss:0.08083\n",
      "[60]\tvalidation_0-logloss:0.08148\n",
      "[61]\tvalidation_0-logloss:0.08076\n",
      "[62]\tvalidation_0-logloss:0.08069\n",
      "[63]\tvalidation_0-logloss:0.08011\n",
      "[64]\tvalidation_0-logloss:0.07985\n",
      "[65]\tvalidation_0-logloss:0.08013\n",
      "[66]\tvalidation_0-logloss:0.08075\n",
      "[67]\tvalidation_0-logloss:0.08075\n",
      "[68]\tvalidation_0-logloss:0.08018\n",
      "[69]\tvalidation_0-logloss:0.08022\n",
      "[70]\tvalidation_0-logloss:0.08028\n",
      "[71]\tvalidation_0-logloss:0.08027\n",
      "[72]\tvalidation_0-logloss:0.08066\n",
      "[73]\tvalidation_0-logloss:0.08046\n",
      "[74]\tvalidation_0-logloss:0.08022\n",
      "[75]\tvalidation_0-logloss:0.08049\n",
      "[76]\tvalidation_0-logloss:0.08103\n",
      "[77]\tvalidation_0-logloss:0.08086\n",
      "[78]\tvalidation_0-logloss:0.08093\n",
      "[79]\tvalidation_0-logloss:0.08098\n",
      "[80]\tvalidation_0-logloss:0.08100\n",
      "[81]\tvalidation_0-logloss:0.08151\n",
      "[82]\tvalidation_0-logloss:0.08136\n",
      "[83]\tvalidation_0-logloss:0.08115\n",
      "[84]\tvalidation_0-logloss:0.08078\n",
      "[85]\tvalidation_0-logloss:0.08082\n",
      "[86]\tvalidation_0-logloss:0.08086\n",
      "[87]\tvalidation_0-logloss:0.08052\n",
      "[88]\tvalidation_0-logloss:0.08057\n",
      "[89]\tvalidation_0-logloss:0.08081\n",
      "[90]\tvalidation_0-logloss:0.08051\n",
      "[91]\tvalidation_0-logloss:0.08086\n",
      "[92]\tvalidation_0-logloss:0.08069\n",
      "[93]\tvalidation_0-logloss:0.08040\n",
      "[94]\tvalidation_0-logloss:0.08045\n",
      "[95]\tvalidation_0-logloss:0.08050\n",
      "[96]\tvalidation_0-logloss:0.08072\n",
      "[97]\tvalidation_0-logloss:0.08045\n",
      "[98]\tvalidation_0-logloss:0.08078\n",
      "[99]\tvalidation_0-logloss:0.08044\n",
      "[100]\tvalidation_0-logloss:0.08018\n",
      "[101]\tvalidation_0-logloss:0.08049\n",
      "[102]\tvalidation_0-logloss:0.08070\n",
      "[103]\tvalidation_0-logloss:0.08045\n",
      "[104]\tvalidation_0-logloss:0.08013\n",
      "[105]\tvalidation_0-logloss:0.08007\n",
      "[106]\tvalidation_0-logloss:0.08011\n",
      "[107]\tvalidation_0-logloss:0.07986\n",
      "[108]\tvalidation_0-logloss:0.08016\n",
      "[109]\tvalidation_0-logloss:0.08036\n",
      "[110]\tvalidation_0-logloss:0.08013\n",
      "[111]\tvalidation_0-logloss:0.08019\n",
      "[112]\tvalidation_0-logloss:0.08023\n",
      "[113]\tvalidation_0-logloss:0.07999\n",
      "[114]\tvalidation_0-logloss:0.08028\n",
      "[115]\tvalidation_0-logloss:0.08048\n",
      "[116]\tvalidation_0-logloss:0.08017\n",
      "[117]\tvalidation_0-logloss:0.07995\n",
      "[118]\tvalidation_0-logloss:0.07990\n",
      "[119]\tvalidation_0-logloss:0.07994\n",
      "[120]\tvalidation_0-logloss:0.07997\n",
      "[121]\tvalidation_0-logloss:0.08002\n",
      "[122]\tvalidation_0-logloss:0.08006\n",
      "[123]\tvalidation_0-logloss:0.07986\n",
      "[124]\tvalidation_0-logloss:0.08012\n",
      "[125]\tvalidation_0-logloss:0.08031\n",
      "[126]\tvalidation_0-logloss:0.08004\n",
      "[127]\tvalidation_0-logloss:0.07984\n",
      "[128]\tvalidation_0-logloss:0.08009\n",
      "[129]\tvalidation_0-logloss:0.07974\n",
      "[130]\tvalidation_0-logloss:0.07978\n",
      "[131]\tvalidation_0-logloss:0.07982\n",
      "[132]\tvalidation_0-logloss:0.07963\n",
      "[133]\tvalidation_0-logloss:0.07980\n",
      "[134]\tvalidation_0-logloss:0.07956\n",
      "오차행렬\n",
      "[[35  2]\n",
      " [ 3 74]]\n",
      "정확도 : 0.9561, 정밀도 : 0.9737, 재현율 : 0.9610, F1 : 0.9673, AUC : 0.9961\n"
     ]
    }
   ],
   "source": [
    "xgb_wrapper = XGBClassifier(n_estimators=400, learnin_rate=0.1, max_depth=3)\n",
    "evals = [(X_test, y_test)]\n",
    "xgb_wrapper.fit(X_train, y_train, \n",
    "                early_stopping_rounds=100, \n",
    "                eval_metric='logloss', \n",
    "                eval_set=evals,\n",
    "                verbose=True)\n",
    "w_pred = xgb_wrapper.predict(X_test)\n",
    "w_pred_proba = xgb_wrapper.predict_proba(X_test)[:,1]\n",
    "get_clf_eval(y_test, w_pred, w_pred_proba)"
   ]
  },
  {
   "cell_type": "code",
   "execution_count": 69,
   "id": "dfc39883-28ed-46fd-92ff-e6e08fd12b91",
   "metadata": {
    "collapsed": true,
    "jupyter": {
     "outputs_hidden": true
    },
    "tags": []
   },
   "outputs": [
    {
     "name": "stdout",
     "output_type": "stream",
     "text": [
      "[16:56:21] WARNING: C:/Users/Administrator/workspace/xgboost-win64_release_1.5.1/src/learner.cc:576: \n",
      "Parameters: { \"learnin_rate\" } might not be used.\n",
      "\n",
      "  This could be a false alarm, with some parameters getting used by language bindings but\n",
      "  then being mistakenly passed down to XGBoost core, or some parameter actually being used\n",
      "  but getting flagged wrongly here. Please open an issue if you find any such cases.\n",
      "\n",
      "\n",
      "[0]\tvalidation_0-logloss:0.47984\n",
      "[1]\tvalidation_0-logloss:0.36218\n",
      "[2]\tvalidation_0-logloss:0.29004\n",
      "[3]\tvalidation_0-logloss:0.23382\n",
      "[4]\tvalidation_0-logloss:0.19901\n",
      "[5]\tvalidation_0-logloss:0.17469\n",
      "[6]\tvalidation_0-logloss:0.15549\n",
      "[7]\tvalidation_0-logloss:0.13367\n",
      "[8]\tvalidation_0-logloss:0.12411\n",
      "[9]\tvalidation_0-logloss:0.11611\n",
      "[10]\tvalidation_0-logloss:0.10768\n",
      "[11]\tvalidation_0-logloss:0.10018\n",
      "[12]\tvalidation_0-logloss:0.09754\n",
      "[13]\tvalidation_0-logloss:0.08920\n",
      "[14]\tvalidation_0-logloss:0.09259\n",
      "[15]\tvalidation_0-logloss:0.09144\n",
      "[16]\tvalidation_0-logloss:0.09066\n",
      "[17]\tvalidation_0-logloss:0.09058\n",
      "[18]\tvalidation_0-logloss:0.08894\n",
      "[19]\tvalidation_0-logloss:0.08622\n",
      "[20]\tvalidation_0-logloss:0.08694\n",
      "[21]\tvalidation_0-logloss:0.08437\n",
      "[22]\tvalidation_0-logloss:0.08092\n",
      "[23]\tvalidation_0-logloss:0.08404\n",
      "[24]\tvalidation_0-logloss:0.08252\n",
      "[25]\tvalidation_0-logloss:0.08363\n",
      "[26]\tvalidation_0-logloss:0.08221\n",
      "[27]\tvalidation_0-logloss:0.08006\n",
      "[28]\tvalidation_0-logloss:0.08012\n",
      "[29]\tvalidation_0-logloss:0.08106\n",
      "[30]\tvalidation_0-logloss:0.07912\n",
      "[31]\tvalidation_0-logloss:0.07902\n",
      "[32]\tvalidation_0-logloss:0.07828\n",
      "[33]\tvalidation_0-logloss:0.07763\n",
      "[34]\tvalidation_0-logloss:0.07815\n",
      "[35]\tvalidation_0-logloss:0.07717\n",
      "[36]\tvalidation_0-logloss:0.08030\n",
      "[37]\tvalidation_0-logloss:0.07981\n",
      "[38]\tvalidation_0-logloss:0.07970\n",
      "[39]\tvalidation_0-logloss:0.07979\n",
      "[40]\tvalidation_0-logloss:0.08142\n",
      "[41]\tvalidation_0-logloss:0.08108\n",
      "[42]\tvalidation_0-logloss:0.08093\n",
      "[43]\tvalidation_0-logloss:0.08288\n",
      "[44]\tvalidation_0-logloss:0.08297\n",
      "오차행렬\n",
      "[[35  2]\n",
      " [ 3 74]]\n",
      "정확도 : 0.9561, 정밀도 : 0.9737, 재현율 : 0.9610, F1 : 0.9673, AUC : 0.9961\n"
     ]
    }
   ],
   "source": [
    "xgb_wrapper.fit(X_train, y_train, \n",
    "                early_stopping_rounds=10, \n",
    "                eval_metric='logloss', \n",
    "                eval_set=evals,\n",
    "                verbose=True)\n",
    "ws10_pred = xgb_wrapper.predict(X_test)\n",
    "ws10_pred_proba = xgb_wrapper.predict_proba(X_test)[:,1]\n",
    "get_clf_eval(y_test, ws10_pred, ws10_pred_proba)\n",
    "#early_stopping_rounds의 값을 적게 주면 학습이 되기전에 멈춰버림!"
   ]
  },
  {
   "cell_type": "code",
   "execution_count": null,
   "id": "dc92f652-dd15-493b-a727-bf1d56521e7b",
   "metadata": {},
   "outputs": [],
   "source": []
  }
 ],
 "metadata": {
  "kernelspec": {
   "display_name": "Python 3 (ipykernel)",
   "language": "python",
   "name": "python3"
  },
  "language_info": {
   "codemirror_mode": {
    "name": "ipython",
    "version": 3
   },
   "file_extension": ".py",
   "mimetype": "text/x-python",
   "name": "python",
   "nbconvert_exporter": "python",
   "pygments_lexer": "ipython3",
   "version": "3.9.7"
  }
 },
 "nbformat": 4,
 "nbformat_minor": 5
}
