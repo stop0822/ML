{
 "cells": [
  {
   "cell_type": "markdown",
   "id": "993ab9c7-e103-4c32-a292-0ffc1d4f492c",
   "metadata": {},
   "source": [
    "# 타이타닉"
   ]
  },
  {
   "cell_type": "code",
   "execution_count": 1,
   "id": "3af6b0ab-94a4-4a5c-bc9f-47b342d3eccb",
   "metadata": {},
   "outputs": [],
   "source": [
    "import numpy as np\n",
    "import pandas as pd\n",
    "import matplotlib.pyplot as plt\n",
    "import seaborn as sns"
   ]
  },
  {
   "cell_type": "code",
   "execution_count": 2,
   "id": "aa9ecb5e-bc7a-424e-8b57-45ea0288e835",
   "metadata": {},
   "outputs": [
    {
     "data": {
      "text/html": [
       "<div>\n",
       "<style scoped>\n",
       "    .dataframe tbody tr th:only-of-type {\n",
       "        vertical-align: middle;\n",
       "    }\n",
       "\n",
       "    .dataframe tbody tr th {\n",
       "        vertical-align: top;\n",
       "    }\n",
       "\n",
       "    .dataframe thead th {\n",
       "        text-align: right;\n",
       "    }\n",
       "</style>\n",
       "<table border=\"1\" class=\"dataframe\">\n",
       "  <thead>\n",
       "    <tr style=\"text-align: right;\">\n",
       "      <th></th>\n",
       "      <th>PassengerId</th>\n",
       "      <th>Survived</th>\n",
       "      <th>Pclass</th>\n",
       "      <th>Name</th>\n",
       "      <th>Sex</th>\n",
       "      <th>Age</th>\n",
       "      <th>SibSp</th>\n",
       "      <th>Parch</th>\n",
       "      <th>Ticket</th>\n",
       "      <th>Fare</th>\n",
       "      <th>Cabin</th>\n",
       "      <th>Embarked</th>\n",
       "    </tr>\n",
       "  </thead>\n",
       "  <tbody>\n",
       "    <tr>\n",
       "      <th>0</th>\n",
       "      <td>1</td>\n",
       "      <td>0</td>\n",
       "      <td>3</td>\n",
       "      <td>Braund, Mr. Owen Harris</td>\n",
       "      <td>male</td>\n",
       "      <td>22.0</td>\n",
       "      <td>1</td>\n",
       "      <td>0</td>\n",
       "      <td>A/5 21171</td>\n",
       "      <td>7.2500</td>\n",
       "      <td>NaN</td>\n",
       "      <td>S</td>\n",
       "    </tr>\n",
       "    <tr>\n",
       "      <th>1</th>\n",
       "      <td>2</td>\n",
       "      <td>1</td>\n",
       "      <td>1</td>\n",
       "      <td>Cumings, Mrs. John Bradley (Florence Briggs Th...</td>\n",
       "      <td>female</td>\n",
       "      <td>38.0</td>\n",
       "      <td>1</td>\n",
       "      <td>0</td>\n",
       "      <td>PC 17599</td>\n",
       "      <td>71.2833</td>\n",
       "      <td>C85</td>\n",
       "      <td>C</td>\n",
       "    </tr>\n",
       "  </tbody>\n",
       "</table>\n",
       "</div>"
      ],
      "text/plain": [
       "   PassengerId  Survived  Pclass  \\\n",
       "0            1         0       3   \n",
       "1            2         1       1   \n",
       "\n",
       "                                                Name     Sex   Age  SibSp  \\\n",
       "0                            Braund, Mr. Owen Harris    male  22.0      1   \n",
       "1  Cumings, Mrs. John Bradley (Florence Briggs Th...  female  38.0      1   \n",
       "\n",
       "   Parch     Ticket     Fare Cabin Embarked  \n",
       "0      0  A/5 21171   7.2500   NaN        S  \n",
       "1      0   PC 17599  71.2833   C85        C  "
      ]
     },
     "execution_count": 2,
     "metadata": {},
     "output_type": "execute_result"
    }
   ],
   "source": [
    "titanic_df = pd.read_csv('titanic_train.csv')\n",
    "titanic_df.head(2)"
   ]
  },
  {
   "cell_type": "code",
   "execution_count": 3,
   "id": "a0362909-c691-4136-8189-f5562ab81aca",
   "metadata": {},
   "outputs": [
    {
     "name": "stdout",
     "output_type": "stream",
     "text": [
      "<class 'pandas.core.frame.DataFrame'>\n",
      "RangeIndex: 891 entries, 0 to 890\n",
      "Data columns (total 12 columns):\n",
      " #   Column       Non-Null Count  Dtype  \n",
      "---  ------       --------------  -----  \n",
      " 0   PassengerId  891 non-null    int64  \n",
      " 1   Survived     891 non-null    int64  \n",
      " 2   Pclass       891 non-null    int64  \n",
      " 3   Name         891 non-null    object \n",
      " 4   Sex          891 non-null    object \n",
      " 5   Age          714 non-null    float64\n",
      " 6   SibSp        891 non-null    int64  \n",
      " 7   Parch        891 non-null    int64  \n",
      " 8   Ticket       891 non-null    object \n",
      " 9   Fare         891 non-null    float64\n",
      " 10  Cabin        204 non-null    object \n",
      " 11  Embarked     889 non-null    object \n",
      "dtypes: float64(2), int64(5), object(5)\n",
      "memory usage: 83.7+ KB\n"
     ]
    }
   ],
   "source": [
    "titanic_df.info()"
   ]
  },
  {
   "cell_type": "code",
   "execution_count": 4,
   "id": "3da97c7b-5c4d-4e31-ac55-31d07a187258",
   "metadata": {},
   "outputs": [],
   "source": [
    "titanic_df['Age'].fillna(titanic_df['Age'].mean(),inplace=True)\n",
    "titanic_df['Cabin'].fillna('N',inplace=True)\n",
    "titanic_df['Embarked'].fillna('N',inplace=True)"
   ]
  },
  {
   "cell_type": "code",
   "execution_count": 5,
   "id": "11562204-8809-430b-8071-76837983c8d4",
   "metadata": {},
   "outputs": [
    {
     "data": {
      "text/plain": [
       "PassengerId    0\n",
       "Survived       0\n",
       "Pclass         0\n",
       "Name           0\n",
       "Sex            0\n",
       "Age            0\n",
       "SibSp          0\n",
       "Parch          0\n",
       "Ticket         0\n",
       "Fare           0\n",
       "Cabin          0\n",
       "Embarked       0\n",
       "dtype: int64"
      ]
     },
     "execution_count": 5,
     "metadata": {},
     "output_type": "execute_result"
    }
   ],
   "source": [
    "titanic_df.isnull().sum()"
   ]
  },
  {
   "cell_type": "code",
   "execution_count": 6,
   "id": "9c523f03-79a7-4a94-81d6-43190186b46b",
   "metadata": {},
   "outputs": [
    {
     "data": {
      "text/plain": [
       "male      577\n",
       "female    314\n",
       "Name: Sex, dtype: int64"
      ]
     },
     "execution_count": 6,
     "metadata": {},
     "output_type": "execute_result"
    }
   ],
   "source": [
    "titanic_df.Sex.value_counts()"
   ]
  },
  {
   "cell_type": "code",
   "execution_count": 7,
   "id": "bca746ff-e3c3-424f-a1b8-ffa5aab5e7bf",
   "metadata": {},
   "outputs": [
    {
     "data": {
      "text/plain": [
       "S    644\n",
       "C    168\n",
       "Q     77\n",
       "N      2\n",
       "Name: Embarked, dtype: int64"
      ]
     },
     "execution_count": 7,
     "metadata": {},
     "output_type": "execute_result"
    }
   ],
   "source": [
    "titanic_df.Embarked.value_counts()"
   ]
  },
  {
   "cell_type": "code",
   "execution_count": 8,
   "id": "a5a3c46f-64f6-4205-aeda-b58df872984b",
   "metadata": {
    "tags": []
   },
   "outputs": [
    {
     "data": {
      "text/plain": [
       "N              687\n",
       "C23 C25 C27      4\n",
       "G6               4\n",
       "B96 B98          4\n",
       "C22 C26          3\n",
       "              ... \n",
       "E34              1\n",
       "C7               1\n",
       "C54              1\n",
       "E36              1\n",
       "C148             1\n",
       "Name: Cabin, Length: 148, dtype: int64"
      ]
     },
     "execution_count": 8,
     "metadata": {},
     "output_type": "execute_result"
    }
   ],
   "source": [
    "titanic_df.Cabin.value_counts() #추후 첫글자 알파벳만 따서 처리"
   ]
  },
  {
   "cell_type": "code",
   "execution_count": 9,
   "id": "06aa05f4-bca1-4aff-ad8a-6fa626f67c7f",
   "metadata": {},
   "outputs": [],
   "source": [
    "titanic_df.Cabin.str[:1]\n",
    "titanic_df.Cabin = titanic_df.Cabin.str[:1]"
   ]
  },
  {
   "cell_type": "code",
   "execution_count": 10,
   "id": "b3781cee-60d2-4ed7-b7e9-4c3d607a151c",
   "metadata": {},
   "outputs": [
    {
     "data": {
      "text/plain": [
       "0    N\n",
       "1    C\n",
       "2    N\n",
       "Name: Cabin, dtype: object"
      ]
     },
     "execution_count": 10,
     "metadata": {},
     "output_type": "execute_result"
    }
   ],
   "source": [
    "titanic_df.Cabin.head(3)"
   ]
  },
  {
   "cell_type": "code",
   "execution_count": 11,
   "id": "66f19082-0a70-446a-9ed2-4765c7634d4b",
   "metadata": {},
   "outputs": [
    {
     "data": {
      "text/plain": [
       "Sex     Survived\n",
       "female  0            81\n",
       "        1           233\n",
       "male    0           468\n",
       "        1           109\n",
       "Name: Survived, dtype: int64"
      ]
     },
     "execution_count": 11,
     "metadata": {},
     "output_type": "execute_result"
    }
   ],
   "source": [
    "titanic_df.groupby(['Sex', 'Survived']).count() #성별에 따른 생존율 확인\n",
    "titanic_df.groupby(['Sex', 'Survived'])['Survived'].count() #여러컬럼중 Survived컬럼만 보고싶을때"
   ]
  },
  {
   "cell_type": "code",
   "execution_count": 12,
   "id": "f38852ea-cbc0-4327-a417-841a8fef7c7a",
   "metadata": {},
   "outputs": [
    {
     "data": {
      "text/plain": [
       "<AxesSubplot:xlabel='Sex', ylabel='Survived'>"
      ]
     },
     "execution_count": 12,
     "metadata": {},
     "output_type": "execute_result"
    },
    {
     "data": {
      "image/png": "[encoded data removed]",
      "text/plain": [
       "<Figure size 432x288 with 1 Axes>"
      ]
     },
     "metadata": {
      "needs_background": "light"
     },
     "output_type": "display_data"
    }
   ],
   "source": [
    "sns.barplot(x='Sex',y='Survived',data=titanic_df)"
   ]
  },
  {
   "cell_type": "code",
   "execution_count": 13,
   "id": "10ed0b2e-c2a0-476e-a176-2d156fb9d472",
   "metadata": {},
   "outputs": [
    {
     "data": {
      "text/plain": [
       "<AxesSubplot:xlabel='Pclass', ylabel='Survived'>"
      ]
     },
     "execution_count": 13,
     "metadata": {},
     "output_type": "execute_result"
    },
    {
     "data": {
      "image/png": "[encoded data removed]",
      "text/plain": [
       "<Figure size 432x288 with 1 Axes>"
      ]
     },
     "metadata": {
      "needs_background": "light"
     },
     "output_type": "display_data"
    }
   ],
   "source": [
    "#객실등급에 따른 생존율\n",
    "# sns.barplot(x='Pclass',y='Survived',data=titanic_df)\n",
    "#성별까지 같이 보고싶을때\n",
    "sns.barplot(x='Pclass',y='Survived',hue='Sex',data=titanic_df)"
   ]
  },
  {
   "cell_type": "code",
   "execution_count": 14,
   "id": "9535904a-12bb-4a2b-961c-9615d03c2287",
   "metadata": {},
   "outputs": [
    {
     "data": {
      "text/plain": [
       "<AxesSubplot:xlabel='Age', ylabel='Survived'>"
      ]
     },
     "execution_count": 14,
     "metadata": {},
     "output_type": "execute_result"
    },
    {
     "data": {
      "image/png": "[encoded data removed]",
      "text/plain": [
       "<Figure size 432x288 with 1 Axes>"
      ]
     },
     "metadata": {
      "needs_background": "light"
     },
     "output_type": "display_data"
    }
   ],
   "source": [
    "#나이에 따른 생존율\n",
    "sns.barplot(x='Age',y='Survived',hue='Sex',data=titanic_df)"
   ]
  },
  {
   "cell_type": "code",
   "execution_count": 15,
   "id": "e0683a52-6008-49df-a25c-a748a048d976",
   "metadata": {},
   "outputs": [],
   "source": [
    "#나이를 범주화\n",
    "def get_category(age):\n",
    "    cat=''\n",
    "    if age <= -1:\n",
    "        cat='Unkown'\n",
    "    elif age <= 5:\n",
    "        cat='Baby'\n",
    "    elif age <= 12:\n",
    "        cat='Child'\n",
    "    elif age <= 18:\n",
    "        cat='Teenager'\n",
    "    elif age <= 25:\n",
    "        cat='Student'\n",
    "    elif age <= 35:\n",
    "        cat='Young Adult'\n",
    "    elif age <= 60:\n",
    "        cat='Adult'\n",
    "    else:\n",
    "        cat='Elderly'\n",
    "    return cat"
   ]
  },
  {
   "cell_type": "code",
   "execution_count": 16,
   "id": "60a3e469-00be-47c4-a6ee-2a0efe448499",
   "metadata": {},
   "outputs": [
    {
     "data": {
      "text/plain": [
       "<Figure size 720x432 with 0 Axes>"
      ]
     },
     "metadata": {},
     "output_type": "display_data"
    }
   ],
   "source": [
    "plt.figure(figsize=(10,6))\n",
    "group_names = ['Unkown','Baby','Child','Teenager','Student','Young Adult','Adult','Elderly']\n",
    "titanic_df['Age_cat'] = titanic_df['Age'].apply(lambda x:get_category(x))"
   ]
  },
  {
   "cell_type": "code",
   "execution_count": 17,
   "id": "d3be102c-4d2c-493d-bf30-3651e40638c8",
   "metadata": {},
   "outputs": [
    {
     "data": {
      "text/plain": [
       "<AxesSubplot:xlabel='Age_cat', ylabel='Survived'>"
      ]
     },
     "execution_count": 17,
     "metadata": {},
     "output_type": "execute_result"
    },
    {
     "data": {
      "image/png": "[encoded data removed]",
      "text/plain": [
       "<Figure size 432x288 with 1 Axes>"
      ]
     },
     "metadata": {
      "needs_background": "light"
     },
     "output_type": "display_data"
    }
   ],
   "source": [
    "# sns.barplot(x='Age_cat',y='Survived',hue='Sex',data=titanic_df)\n",
    "#내가 원하는 순서가 아닌것을 순서대로 정렬하기\n",
    "sns.barplot(x='Age_cat',y='Survived',hue='Sex',data=titanic_df,order=group_names)"
   ]
  },
  {
   "cell_type": "code",
   "execution_count": 18,
   "id": "523dae3b-be3f-493b-a99d-aaf7b7364e1c",
   "metadata": {},
   "outputs": [],
   "source": [
    "# titanic_df.drop(coulumns='Age_cat',axis=1,inplace=True)"
   ]
  },
  {
   "cell_type": "code",
   "execution_count": 19,
   "id": "9388df7f-f3f4-43f1-ae34-43c4b063de98",
   "metadata": {},
   "outputs": [],
   "source": [
    "# Cabin, Sex, Embarked를 문자를 숫자로 변경\n",
    "def encode_features(dataDf):\n",
    "    from sklearn.preprocessing import LabelEncoder #함수화 단위에 import를 하면 복붙하기 편함\n",
    "    features = ['Cabin', 'Sex', 'Embarked']\n",
    "    for feature in features:\n",
    "        dataDf[feature] = LabelEncoder().fit_transform(dataDf[feature])\n",
    "    return dataDf"
   ]
  },
  {
   "cell_type": "code",
   "execution_count": 20,
   "id": "b8c024bd-63a8-4761-9dd1-155318a86b69",
   "metadata": {},
   "outputs": [
    {
     "data": {
      "text/html": [
       "<div>\n",
       "<style scoped>\n",
       "    .dataframe tbody tr th:only-of-type {\n",
       "        vertical-align: middle;\n",
       "    }\n",
       "\n",
       "    .dataframe tbody tr th {\n",
       "        vertical-align: top;\n",
       "    }\n",
       "\n",
       "    .dataframe thead th {\n",
       "        text-align: right;\n",
       "    }\n",
       "</style>\n",
       "<table border=\"1\" class=\"dataframe\">\n",
       "  <thead>\n",
       "    <tr style=\"text-align: right;\">\n",
       "      <th></th>\n",
       "      <th>PassengerId</th>\n",
       "      <th>Survived</th>\n",
       "      <th>Pclass</th>\n",
       "      <th>Name</th>\n",
       "      <th>Sex</th>\n",
       "      <th>Age</th>\n",
       "      <th>SibSp</th>\n",
       "      <th>Parch</th>\n",
       "      <th>Ticket</th>\n",
       "      <th>Fare</th>\n",
       "      <th>Cabin</th>\n",
       "      <th>Embarked</th>\n",
       "      <th>Age_cat</th>\n",
       "    </tr>\n",
       "  </thead>\n",
       "  <tbody>\n",
       "    <tr>\n",
       "      <th>0</th>\n",
       "      <td>1</td>\n",
       "      <td>0</td>\n",
       "      <td>3</td>\n",
       "      <td>Braund, Mr. Owen Harris</td>\n",
       "      <td>1</td>\n",
       "      <td>22.0</td>\n",
       "      <td>1</td>\n",
       "      <td>0</td>\n",
       "      <td>A/5 21171</td>\n",
       "      <td>7.2500</td>\n",
       "      <td>7</td>\n",
       "      <td>3</td>\n",
       "      <td>Student</td>\n",
       "    </tr>\n",
       "    <tr>\n",
       "      <th>1</th>\n",
       "      <td>2</td>\n",
       "      <td>1</td>\n",
       "      <td>1</td>\n",
       "      <td>Cumings, Mrs. John Bradley (Florence Briggs Th...</td>\n",
       "      <td>0</td>\n",
       "      <td>38.0</td>\n",
       "      <td>1</td>\n",
       "      <td>0</td>\n",
       "      <td>PC 17599</td>\n",
       "      <td>71.2833</td>\n",
       "      <td>2</td>\n",
       "      <td>0</td>\n",
       "      <td>Adult</td>\n",
       "    </tr>\n",
       "  </tbody>\n",
       "</table>\n",
       "</div>"
      ],
      "text/plain": [
       "   PassengerId  Survived  Pclass  \\\n",
       "0            1         0       3   \n",
       "1            2         1       1   \n",
       "\n",
       "                                                Name  Sex   Age  SibSp  Parch  \\\n",
       "0                            Braund, Mr. Owen Harris    1  22.0      1      0   \n",
       "1  Cumings, Mrs. John Bradley (Florence Briggs Th...    0  38.0      1      0   \n",
       "\n",
       "      Ticket     Fare  Cabin  Embarked  Age_cat  \n",
       "0  A/5 21171   7.2500      7         3  Student  \n",
       "1   PC 17599  71.2833      2         0    Adult  "
      ]
     },
     "execution_count": 20,
     "metadata": {},
     "output_type": "execute_result"
    }
   ],
   "source": [
    "titanic_df = encode_features(titanic_df)\n",
    "titanic_df.head(2)"
   ]
  },
  {
   "cell_type": "code",
   "execution_count": 21,
   "id": "475d6e70-98a4-4ece-b292-f2019a17edf7",
   "metadata": {},
   "outputs": [],
   "source": [
    "def fillna(df):\n",
    "    df['Age'].fillna(titanic_df['Age'].mean(),inplace=True)\n",
    "    df['Cabin'].fillna('N',inplace=True)\n",
    "    df['Embarked'].fillna('N',inplace=True)\n",
    "    df['Fare'].fillna(0,inplace=True)\n",
    "    return df\n",
    "\n",
    "def drop_features(df):\n",
    "    df.drop(columns=['PassengerId','Name','Ticket'],inplace=True)\n",
    "    return df\n",
    "\n",
    "def format_features(df):\n",
    "    from sklearn.preprocessing import LabelEncoder \n",
    "    df.Cabin = df.Cabin.str[:1]\n",
    "    features = ['Cabin', 'Sex', 'Embarked']\n",
    "    for feature in features:\n",
    "        df[feature] = LabelEncoder().fit_transform(df[feature])\n",
    "    return df\n",
    "\n",
    "def transform_features(df):\n",
    "    df = fillna(df)\n",
    "    df = drop_features(df)\n",
    "    df = format_features(df)\n",
    "    return df"
   ]
  },
  {
   "cell_type": "code",
   "execution_count": 22,
   "id": "2a8eccd6-34ee-415b-b5a2-9a7be016f53e",
   "metadata": {},
   "outputs": [],
   "source": [
    "titanic_df = pd.read_csv('titanic_train.csv')\n",
    "y_titanic_df = titanic_df['Survived']  #target data\n",
    "X_titanic_df = titanic_df.drop(columns=['Survived']) #target data를 제외한 나머지\n",
    "X_titanic_df = transform_features(X_titanic_df)"
   ]
  },
  {
   "cell_type": "code",
   "execution_count": 23,
   "id": "ef9a2b00-a29c-414f-bf6d-ee80cd0b2c0c",
   "metadata": {},
   "outputs": [],
   "source": [
    "from sklearn.model_selection import train_test_split"
   ]
  },
  {
   "cell_type": "code",
   "execution_count": 24,
   "id": "96c2f6e6-3b78-4e1a-9917-b87536d8370d",
   "metadata": {},
   "outputs": [],
   "source": [
    "# 검증데이터\n",
    "X_train, X_test, y_train, y_test = train_test_split(X_titanic_df,\n",
    "                                                    y_titanic_df,\n",
    "                                                    test_size=0.2,\n",
    "                                                    random_state=11)"
   ]
  },
  {
   "cell_type": "code",
   "execution_count": 25,
   "id": "522bb4f6-453c-4307-ba92-726097642baa",
   "metadata": {},
   "outputs": [],
   "source": [
    "#분류에 쓰이는 모델\n",
    "from sklearn.tree import DecisionTreeClassifier\n",
    "from sklearn.ensemble import RandomForestClassifier\n",
    "from sklearn.linear_model import LogisticRegression\n",
    "from sklearn.metrics import accuracy_score"
   ]
  },
  {
   "cell_type": "code",
   "execution_count": 26,
   "id": "8180ee3a-0847-4436-a6f6-08b9ac7ba1e5",
   "metadata": {},
   "outputs": [],
   "source": [
    "dt_clf = DecisionTreeClassifier(random_state=11)\n",
    "rf_clf = RandomForestClassifier(random_state=11)\n",
    "lr_clf = LogisticRegression()"
   ]
  },
  {
   "cell_type": "code",
   "execution_count": 27,
   "id": "50a24f5c-6fd0-4f3b-b20f-d3b03584fdbf",
   "metadata": {
    "tags": []
   },
   "outputs": [
    {
     "name": "stderr",
     "output_type": "stream",
     "text": [
      "C:\\Users\\user\\anaconda3\\lib\\site-packages\\sklearn\\linear_model\\_logistic.py:763: ConvergenceWarning: lbfgs failed to converge (status=1):\n",
      "STOP: TOTAL NO. of ITERATIONS REACHED LIMIT.\n",
      "\n",
      "Increase the number of iterations (max_iter) or scale the data as shown in:\n",
      "    https://scikit-learn.org/stable/modules/preprocessing.html\n",
      "Please also refer to the documentation for alternative solver options:\n",
      "    https://scikit-learn.org/stable/modules/linear_model.html#logistic-regression\n",
      "  n_iter_i = _check_optimize_result(\n"
     ]
    },
    {
     "data": {
      "text/plain": [
       "LogisticRegression()"
      ]
     },
     "execution_count": 27,
     "metadata": {},
     "output_type": "execute_result"
    }
   ],
   "source": [
    "dt_clf.fit(X_train, y_train)\n",
    "rf_clf.fit(X_train, y_train)\n",
    "lr_clf.fit(X_train, y_train)"
   ]
  },
  {
   "cell_type": "code",
   "execution_count": 28,
   "id": "ea7640bb-489e-45ff-b80a-6fb759f1cf6c",
   "metadata": {},
   "outputs": [],
   "source": [
    "dt_pred = dt_clf.predict(X_test)\n",
    "rf_pred = rf_clf.predict(X_test)\n",
    "lr_pred = lr_clf.predict(X_test)"
   ]
  },
  {
   "cell_type": "code",
   "execution_count": 29,
   "id": "377d7306-edc2-4b36-bb81-a19c1c2db32e",
   "metadata": {},
   "outputs": [
    {
     "name": "stdout",
     "output_type": "stream",
     "text": [
      "dt 0.7877094972067039\n",
      "rf 0.8547486033519553\n",
      "lr 0.8491620111731844\n"
     ]
    }
   ],
   "source": [
    "print('dt',accuracy_score(y_test,dt_pred))\n",
    "print('rf',accuracy_score(y_test,rf_pred))\n",
    "print('lr',accuracy_score(y_test,lr_pred))"
   ]
  },
  {
   "cell_type": "markdown",
   "id": "30c06bd3-5fa3-418e-bc0c-a8729c7584ed",
   "metadata": {},
   "source": [
    "#### day03"
   ]
  },
  {
   "cell_type": "code",
   "execution_count": 41,
   "id": "321f2600-f642-4f99-b01d-b64bcc709f2d",
   "metadata": {},
   "outputs": [],
   "source": [
    "import warnings\n",
    "warnings.filterwarnings('ignore')"
   ]
  },
  {
   "cell_type": "code",
   "execution_count": 42,
   "id": "8facedd8-88bb-497e-a14e-031140cbe0e1",
   "metadata": {},
   "outputs": [],
   "source": [
    "from sklearn.model_selection import KFold"
   ]
  },
  {
   "cell_type": "code",
   "execution_count": 52,
   "id": "0df02431-3f91-45ec-a7c4-0569ecfecdd2",
   "metadata": {},
   "outputs": [],
   "source": [
    "def exec_kfold(clf,folds=5):\n",
    "    kfold = KFold(n_splits=folds,shuffle=True)\n",
    "    scores = []\n",
    "    for iter_count,(train_index,test_index) in enumerate(kfold.split(X_titanic_df)):\n",
    "        X_train, X_test = X_titanic_df.values[train_index],X_titanic_df.values[test_index]\n",
    "        y_train, y_test = y_titanic_df.values[train_index],y_titanic_df.values[test_index]\n",
    "        clf.fit(X_train,y_train)\n",
    "        pred = clf.predict(X_test)\n",
    "        accuracy = accuracy_score(y_test,pred)\n",
    "        scores.append(accuracy)\n",
    "        print(f'교차검증 {iter_count}번째 정확도 : {accuracy:.4f}')\n",
    "    mean_score = np.mean(scores)\n",
    "    print(f'평균 정확도 : {mean_score:.4f}')    "
   ]
  },
  {
   "cell_type": "code",
   "execution_count": 53,
   "id": "1e6ad13e-c08d-4d21-927b-5e66b2645583",
   "metadata": {},
   "outputs": [
    {
     "name": "stdout",
     "output_type": "stream",
     "text": [
      "교차검증 0번째 정확도 : 0.7654\n",
      "교차검증 1번째 정확도 : 0.8258\n",
      "교차검증 2번째 정확도 : 0.7416\n",
      "교차검증 3번째 정확도 : 0.7978\n",
      "교차검증 4번째 정확도 : 0.7697\n",
      "평균 정확도 : 0.7800\n"
     ]
    }
   ],
   "source": [
    "exec_kfold(dt_clf)  #dt 0.7877094972067039"
   ]
  },
  {
   "cell_type": "code",
   "execution_count": 54,
   "id": "b4aa5c46-7897-408e-8bbe-ba9ce3be382d",
   "metadata": {},
   "outputs": [
    {
     "name": "stdout",
     "output_type": "stream",
     "text": [
      "교차검증 0번째 정확도 : 0.7821\n",
      "교차검증 1번째 정확도 : 0.8146\n",
      "교차검증 2번째 정확도 : 0.8258\n",
      "교차검증 3번째 정확도 : 0.8315\n",
      "교차검증 4번째 정확도 : 0.7921\n",
      "평균 정확도 : 0.8092\n"
     ]
    }
   ],
   "source": [
    "exec_kfold(rf_clf)  #rf 0.8547486033519553"
   ]
  },
  {
   "cell_type": "code",
   "execution_count": 55,
   "id": "ba884598-c443-4c5c-a00c-a09170dbb678",
   "metadata": {},
   "outputs": [
    {
     "name": "stdout",
     "output_type": "stream",
     "text": [
      "교차검증 0번째 정확도 : 0.7821\n",
      "교차검증 1번째 정확도 : 0.7809\n",
      "교차검증 2번째 정확도 : 0.8034\n",
      "교차검증 3번째 정확도 : 0.7921\n",
      "교차검증 4번째 정확도 : 0.8090\n",
      "평균 정확도 : 0.7935\n"
     ]
    }
   ],
   "source": [
    "exec_kfold(lr_clf)   #lr 0.8491620111731844"
   ]
  },
  {
   "cell_type": "code",
   "execution_count": 56,
   "id": "98d20ac1-6cd0-4c6c-8974-6f571ec8afd2",
   "metadata": {},
   "outputs": [],
   "source": [
    "from sklearn.model_selection import cross_val_score"
   ]
  },
  {
   "cell_type": "code",
   "execution_count": 57,
   "id": "278a56ac-9aae-4686-845f-639774500533",
   "metadata": {},
   "outputs": [
    {
     "name": "stdout",
     "output_type": "stream",
     "text": [
      "교차검증 0번째  정확도 : 0.7430\n",
      "교차검증 1번째  정확도 : 0.7753\n",
      "교차검증 2번째  정확도 : 0.7921\n",
      "교차검증 3번째  정확도 : 0.7865\n",
      "교차검증 4번째  정확도 : 0.8427\n",
      "평균정확도 : 0.7879\n"
     ]
    }
   ],
   "source": [
    "scores = cross_val_score(dt_clf, X_titanic_df,y_titanic_df,cv=5)\n",
    "for iter_count,accuracy in enumerate(scores):\n",
    "    print(f'교차검증 {iter_count}번째  정확도 : {accuracy:.4f}')\n",
    "print(f'평균정확도 : {np.mean(scores):.4f}')"
   ]
  },
  {
   "cell_type": "code",
   "execution_count": 58,
   "id": "40efa1ac-8e17-4dcf-966b-f310d0d6270c",
   "metadata": {},
   "outputs": [
    {
     "name": "stdout",
     "output_type": "stream",
     "text": [
      "교차검증 0번째  정확도 : 0.7933\n",
      "교차검증 1번째  정확도 : 0.7978\n",
      "교차검증 2번째  정확도 : 0.8483\n",
      "교차검증 3번째  정확도 : 0.7640\n",
      "교차검증 4번째  정확도 : 0.8652\n",
      "평균정확도 : 0.8137\n"
     ]
    }
   ],
   "source": [
    "scores = cross_val_score(rf_clf, X_titanic_df,y_titanic_df,cv=5)\n",
    "for iter_count,accuracy in enumerate(scores):\n",
    "    print(f'교차검증 {iter_count}번째  정확도 : {accuracy:.4f}')\n",
    "print(f'평균정확도 : {np.mean(scores):.4f}')"
   ]
  },
  {
   "cell_type": "code",
   "execution_count": 59,
   "id": "96e37577-16aa-4ce9-afaf-23223be30e5b",
   "metadata": {},
   "outputs": [
    {
     "name": "stdout",
     "output_type": "stream",
     "text": [
      "교차검증 0번째  정확도 : 0.7989\n",
      "교차검증 1번째  정확도 : 0.7697\n",
      "교차검증 2번째  정확도 : 0.7809\n",
      "교차검증 3번째  정확도 : 0.7753\n",
      "교차검증 4번째  정확도 : 0.8146\n",
      "평균정확도 : 0.7879\n"
     ]
    }
   ],
   "source": [
    "scores = cross_val_score(lr_clf, X_titanic_df,y_titanic_df,cv=5)\n",
    "for iter_count,accuracy in enumerate(scores):\n",
    "    print(f'교차검증 {iter_count}번째  정확도 : {accuracy:.4f}')\n",
    "print(f'평균정확도 : {np.mean(scores):.4f}')"
   ]
  },
  {
   "cell_type": "markdown",
   "id": "78a783d8-4f6c-45f1-8e09-e42ef4df4758",
   "metadata": {},
   "source": [
    "## GridSearchCV"
   ]
  },
  {
   "cell_type": "code",
   "execution_count": 60,
   "id": "d838bfa2-86c8-4dec-a1ec-882b385c3588",
   "metadata": {},
   "outputs": [],
   "source": [
    "from sklearn.model_selection import GridSearchCV"
   ]
  },
  {
   "cell_type": "code",
   "execution_count": 61,
   "id": "0839105d-6e61-4982-a9fb-1ac8dfeff1f8",
   "metadata": {},
   "outputs": [],
   "source": [
    "parameters = {\n",
    "    'max_depth':[2,3,5,10],\n",
    "    'min_samples_split':[2,3,5],\n",
    "    'min_samples_leaf':[1,5,8]\n",
    "}"
   ]
  },
  {
   "cell_type": "code",
   "execution_count": 64,
   "id": "e17849a1-d8ef-4627-8794-eec28d125fca",
   "metadata": {},
   "outputs": [
    {
     "data": {
      "text/plain": [
       "GridSearchCV(cv=5, estimator=DecisionTreeClassifier(random_state=11),\n",
       "             param_grid={'max_depth': [2, 3, 5, 10],\n",
       "                         'min_samples_leaf': [1, 5, 8],\n",
       "                         'min_samples_split': [2, 3, 5]},\n",
       "             scoring='accuracy')"
      ]
     },
     "execution_count": 64,
     "metadata": {},
     "output_type": "execute_result"
    }
   ],
   "source": [
    "grid_dclf = GridSearchCV(dt_clf,param_grid=parameters,scoring='accuracy',cv=5)\n",
    "grid_dclf.fit(X_train, y_train)"
   ]
  },
  {
   "cell_type": "code",
   "execution_count": 65,
   "id": "f9211edb-4f94-44b7-a4b5-70be63a7ac08",
   "metadata": {
    "collapsed": true,
    "jupyter": {
     "outputs_hidden": true
    },
    "tags": []
   },
   "outputs": [
    {
     "data": {
      "text/plain": [
       "{'mean_fit_time': array([0.0021935 , 0.00179524, 0.00159593, 0.00159597, 0.00159569,\n",
       "        0.00164819, 0.00179505, 0.0018981 , 0.00119467, 0.00179715,\n",
       "        0.00160422, 0.00199494, 0.00199494, 0.00179529, 0.00179524,\n",
       "        0.0019948 , 0.00159535, 0.00159578, 0.00210452, 0.00199523,\n",
       "        0.0019949 , 0.00139632, 0.00199471, 0.00199461, 0.00179534,\n",
       "        0.0017951 , 0.00199461, 0.00199475, 0.00219398, 0.00199461,\n",
       "        0.00209579, 0.00179529, 0.00219436, 0.00199461, 0.00219393,\n",
       "        0.00199447]),\n",
       " 'std_fit_time': array([9.76055454e-04, 3.99565821e-04, 4.88772355e-04, 4.88714193e-04,\n",
       "        4.88480312e-04, 5.42720837e-04, 3.98874896e-04, 4.92991867e-04,\n",
       "        3.99988403e-04, 7.48316436e-04, 4.95791802e-04, 1.42732902e-06,\n",
       "        6.31429893e-04, 3.99112787e-04, 7.46276438e-04, 1.78416128e-07,\n",
       "        4.88402600e-04, 4.88752840e-04, 2.19583641e-04, 6.31656099e-04,\n",
       "        2.78041453e-07, 7.97796257e-04, 1.16800773e-07, 1.50789149e-07,\n",
       "        3.99017704e-04, 3.98898164e-04, 1.50789149e-07, 1.16800773e-07,\n",
       "        3.98492827e-04, 3.01578299e-07, 2.02131299e-04, 3.98874297e-04,\n",
       "        3.99494200e-04, 1.50789149e-07, 3.98993845e-04, 1.16800773e-07]),\n",
       " 'mean_score_time': array([0.00100284, 0.00099716, 0.00099726, 0.00099711, 0.00079813,\n",
       "        0.00114045, 0.00079775, 0.00119619, 0.00080357, 0.00099783,\n",
       "        0.00098948, 0.00059853, 0.0009973 , 0.00099721, 0.00119672,\n",
       "        0.00099726, 0.0009973 , 0.0007978 , 0.00098853, 0.00099688,\n",
       "        0.00079775, 0.00099721, 0.0009973 , 0.00099735, 0.00099707,\n",
       "        0.00099735, 0.0009974 , 0.00099726, 0.00099726, 0.0009974 ,\n",
       "        0.00099726, 0.00099721, 0.00099711, 0.0009974 , 0.00119667,\n",
       "        0.00099745]),\n",
       " 'std_score_time': array([1.13105935e-05, 2.86102295e-07, 6.64157308e-07, 3.81469727e-07,\n",
       "        3.99065146e-04, 2.84982022e-04, 3.98874297e-04, 3.99810353e-04,\n",
       "        4.01903765e-04, 8.44957597e-07, 1.56409857e-05, 4.88694596e-04,\n",
       "        6.30675630e-04, 4.67203091e-07, 3.98945848e-04, 9.53674316e-08,\n",
       "        2.61174468e-07, 3.98898135e-04, 1.73101740e-05, 6.30148006e-04,\n",
       "        7.46161742e-04, 1.16800773e-07, 1.50789149e-07, 2.78041453e-07,\n",
       "        3.69356475e-07, 1.78416128e-07, 1.16800773e-07, 9.53674316e-08,\n",
       "        2.33601546e-07, 2.43140197e-07, 1.78416128e-07, 1.16800773e-07,\n",
       "        6.28991411e-07, 1.16800773e-07, 3.98850480e-04, 1.90734863e-07]),\n",
       " 'param_max_depth': masked_array(data=[2, 2, 2, 2, 2, 2, 2, 2, 2, 3, 3, 3, 3, 3, 3, 3, 3, 3,\n",
       "                    5, 5, 5, 5, 5, 5, 5, 5, 5, 10, 10, 10, 10, 10, 10, 10,\n",
       "                    10, 10],\n",
       "              mask=[False, False, False, False, False, False, False, False,\n",
       "                    False, False, False, False, False, False, False, False,\n",
       "                    False, False, False, False, False, False, False, False,\n",
       "                    False, False, False, False, False, False, False, False,\n",
       "                    False, False, False, False],\n",
       "        fill_value='?',\n",
       "             dtype=object),\n",
       " 'param_min_samples_leaf': masked_array(data=[1, 1, 1, 5, 5, 5, 8, 8, 8, 1, 1, 1, 5, 5, 5, 8, 8, 8,\n",
       "                    1, 1, 1, 5, 5, 5, 8, 8, 8, 1, 1, 1, 5, 5, 5, 8, 8, 8],\n",
       "              mask=[False, False, False, False, False, False, False, False,\n",
       "                    False, False, False, False, False, False, False, False,\n",
       "                    False, False, False, False, False, False, False, False,\n",
       "                    False, False, False, False, False, False, False, False,\n",
       "                    False, False, False, False],\n",
       "        fill_value='?',\n",
       "             dtype=object),\n",
       " 'param_min_samples_split': masked_array(data=[2, 3, 5, 2, 3, 5, 2, 3, 5, 2, 3, 5, 2, 3, 5, 2, 3, 5,\n",
       "                    2, 3, 5, 2, 3, 5, 2, 3, 5, 2, 3, 5, 2, 3, 5, 2, 3, 5],\n",
       "              mask=[False, False, False, False, False, False, False, False,\n",
       "                    False, False, False, False, False, False, False, False,\n",
       "                    False, False, False, False, False, False, False, False,\n",
       "                    False, False, False, False, False, False, False, False,\n",
       "                    False, False, False, False],\n",
       "        fill_value='?',\n",
       "             dtype=object),\n",
       " 'params': [{'max_depth': 2, 'min_samples_leaf': 1, 'min_samples_split': 2},\n",
       "  {'max_depth': 2, 'min_samples_leaf': 1, 'min_samples_split': 3},\n",
       "  {'max_depth': 2, 'min_samples_leaf': 1, 'min_samples_split': 5},\n",
       "  {'max_depth': 2, 'min_samples_leaf': 5, 'min_samples_split': 2},\n",
       "  {'max_depth': 2, 'min_samples_leaf': 5, 'min_samples_split': 3},\n",
       "  {'max_depth': 2, 'min_samples_leaf': 5, 'min_samples_split': 5},\n",
       "  {'max_depth': 2, 'min_samples_leaf': 8, 'min_samples_split': 2},\n",
       "  {'max_depth': 2, 'min_samples_leaf': 8, 'min_samples_split': 3},\n",
       "  {'max_depth': 2, 'min_samples_leaf': 8, 'min_samples_split': 5},\n",
       "  {'max_depth': 3, 'min_samples_leaf': 1, 'min_samples_split': 2},\n",
       "  {'max_depth': 3, 'min_samples_leaf': 1, 'min_samples_split': 3},\n",
       "  {'max_depth': 3, 'min_samples_leaf': 1, 'min_samples_split': 5},\n",
       "  {'max_depth': 3, 'min_samples_leaf': 5, 'min_samples_split': 2},\n",
       "  {'max_depth': 3, 'min_samples_leaf': 5, 'min_samples_split': 3},\n",
       "  {'max_depth': 3, 'min_samples_leaf': 5, 'min_samples_split': 5},\n",
       "  {'max_depth': 3, 'min_samples_leaf': 8, 'min_samples_split': 2},\n",
       "  {'max_depth': 3, 'min_samples_leaf': 8, 'min_samples_split': 3},\n",
       "  {'max_depth': 3, 'min_samples_leaf': 8, 'min_samples_split': 5},\n",
       "  {'max_depth': 5, 'min_samples_leaf': 1, 'min_samples_split': 2},\n",
       "  {'max_depth': 5, 'min_samples_leaf': 1, 'min_samples_split': 3},\n",
       "  {'max_depth': 5, 'min_samples_leaf': 1, 'min_samples_split': 5},\n",
       "  {'max_depth': 5, 'min_samples_leaf': 5, 'min_samples_split': 2},\n",
       "  {'max_depth': 5, 'min_samples_leaf': 5, 'min_samples_split': 3},\n",
       "  {'max_depth': 5, 'min_samples_leaf': 5, 'min_samples_split': 5},\n",
       "  {'max_depth': 5, 'min_samples_leaf': 8, 'min_samples_split': 2},\n",
       "  {'max_depth': 5, 'min_samples_leaf': 8, 'min_samples_split': 3},\n",
       "  {'max_depth': 5, 'min_samples_leaf': 8, 'min_samples_split': 5},\n",
       "  {'max_depth': 10, 'min_samples_leaf': 1, 'min_samples_split': 2},\n",
       "  {'max_depth': 10, 'min_samples_leaf': 1, 'min_samples_split': 3},\n",
       "  {'max_depth': 10, 'min_samples_leaf': 1, 'min_samples_split': 5},\n",
       "  {'max_depth': 10, 'min_samples_leaf': 5, 'min_samples_split': 2},\n",
       "  {'max_depth': 10, 'min_samples_leaf': 5, 'min_samples_split': 3},\n",
       "  {'max_depth': 10, 'min_samples_leaf': 5, 'min_samples_split': 5},\n",
       "  {'max_depth': 10, 'min_samples_leaf': 8, 'min_samples_split': 2},\n",
       "  {'max_depth': 10, 'min_samples_leaf': 8, 'min_samples_split': 3},\n",
       "  {'max_depth': 10, 'min_samples_leaf': 8, 'min_samples_split': 5}],\n",
       " 'split0_test_score': array([0.73426573, 0.73426573, 0.73426573, 0.73426573, 0.73426573,\n",
       "        0.73426573, 0.73426573, 0.73426573, 0.73426573, 0.79020979,\n",
       "        0.79020979, 0.79020979, 0.79020979, 0.79020979, 0.79020979,\n",
       "        0.79020979, 0.79020979, 0.79020979, 0.72727273, 0.72727273,\n",
       "        0.72727273, 0.72027972, 0.72027972, 0.72027972, 0.72727273,\n",
       "        0.72727273, 0.72727273, 0.76223776, 0.76223776, 0.76923077,\n",
       "        0.72727273, 0.72727273, 0.72727273, 0.74825175, 0.74825175,\n",
       "        0.74825175]),\n",
       " 'split1_test_score': array([0.76923077, 0.76923077, 0.76923077, 0.76923077, 0.76923077,\n",
       "        0.76923077, 0.76923077, 0.76923077, 0.76923077, 0.7972028 ,\n",
       "        0.7972028 , 0.7972028 , 0.79020979, 0.79020979, 0.79020979,\n",
       "        0.79020979, 0.79020979, 0.79020979, 0.78321678, 0.78321678,\n",
       "        0.77622378, 0.78321678, 0.78321678, 0.78321678, 0.8041958 ,\n",
       "        0.8041958 , 0.8041958 , 0.74125874, 0.73426573, 0.73426573,\n",
       "        0.72027972, 0.72027972, 0.72027972, 0.75524476, 0.75524476,\n",
       "        0.75524476]),\n",
       " 'split2_test_score': array([0.75352113, 0.75352113, 0.75352113, 0.75352113, 0.75352113,\n",
       "        0.75352113, 0.75352113, 0.75352113, 0.75352113, 0.83098592,\n",
       "        0.83098592, 0.83098592, 0.83098592, 0.83098592, 0.83098592,\n",
       "        0.82394366, 0.82394366, 0.82394366, 0.8028169 , 0.82394366,\n",
       "        0.83802817, 0.83802817, 0.83802817, 0.83802817, 0.82394366,\n",
       "        0.82394366, 0.82394366, 0.81690141, 0.81690141, 0.81690141,\n",
       "        0.83802817, 0.83802817, 0.83802817, 0.83802817, 0.83802817,\n",
       "        0.83802817]),\n",
       " 'split3_test_score': array([0.78873239, 0.78873239, 0.78873239, 0.78873239, 0.78873239,\n",
       "        0.78873239, 0.78873239, 0.78873239, 0.78873239, 0.8028169 ,\n",
       "        0.8028169 , 0.8028169 , 0.8028169 , 0.8028169 , 0.8028169 ,\n",
       "        0.8028169 , 0.8028169 , 0.8028169 , 0.8028169 , 0.8028169 ,\n",
       "        0.8028169 , 0.81690141, 0.81690141, 0.81690141, 0.81690141,\n",
       "        0.81690141, 0.81690141, 0.81690141, 0.83098592, 0.83098592,\n",
       "        0.85915493, 0.85915493, 0.85915493, 0.83098592, 0.83098592,\n",
       "        0.83098592]),\n",
       " 'split4_test_score': array([0.74647887, 0.74647887, 0.74647887, 0.74647887, 0.74647887,\n",
       "        0.74647887, 0.74647887, 0.74647887, 0.74647887, 0.77464789,\n",
       "        0.77464789, 0.77464789, 0.78169014, 0.78169014, 0.78169014,\n",
       "        0.73239437, 0.73239437, 0.73239437, 0.78873239, 0.78169014,\n",
       "        0.78169014, 0.78873239, 0.78873239, 0.78873239, 0.77464789,\n",
       "        0.77464789, 0.77464789, 0.74647887, 0.76760563, 0.76760563,\n",
       "        0.78873239, 0.78873239, 0.78873239, 0.77464789, 0.77464789,\n",
       "        0.77464789]),\n",
       " 'mean_test_score': array([0.75844578, 0.75844578, 0.75844578, 0.75844578, 0.75844578,\n",
       "        0.75844578, 0.75844578, 0.75844578, 0.75844578, 0.79917266,\n",
       "        0.79917266, 0.79917266, 0.79918251, 0.79918251, 0.79918251,\n",
       "        0.7879149 , 0.7879149 , 0.7879149 , 0.78097114, 0.78378804,\n",
       "        0.78520634, 0.7894317 , 0.7894317 , 0.7894317 , 0.7893923 ,\n",
       "        0.7893923 , 0.7893923 , 0.77675564, 0.78239929, 0.78379789,\n",
       "        0.78669359, 0.78669359, 0.78669359, 0.7894317 , 0.7894317 ,\n",
       "        0.7894317 ]),\n",
       " 'std_test_score': array([0.0188983 , 0.0188983 , 0.0188983 , 0.0188983 , 0.0188983 ,\n",
       "        0.0188983 , 0.0188983 , 0.0188983 , 0.0188983 , 0.01849887,\n",
       "        0.01849887, 0.01849887, 0.01727233, 0.01727233, 0.01727233,\n",
       "        0.030375  , 0.030375  , 0.030375  , 0.0279402 , 0.03216607,\n",
       "        0.0361929 , 0.03984297, 0.03984297, 0.03984297, 0.03534383,\n",
       "        0.03534383, 0.03534383, 0.0334988 , 0.03603675, 0.03535641,\n",
       "        0.05627021, 0.05627021, 0.05627021, 0.03787206, 0.03787206,\n",
       "        0.03787206]),\n",
       " 'rank_test_score': array([28, 28, 28, 28, 28, 28, 28, 28, 28,  4,  4,  4,  1,  1,  1, 16, 16,\n",
       "        16, 26, 24, 22,  7,  7,  7, 13, 13, 13, 27, 25, 23, 19, 19, 19,  7,\n",
       "         7,  7])}"
      ]
     },
     "execution_count": 65,
     "metadata": {},
     "output_type": "execute_result"
    }
   ],
   "source": [
    "grid_dclf.cv_results_"
   ]
  },
  {
   "cell_type": "code",
   "execution_count": 66,
   "id": "a02302eb-7eb6-4fef-9d31-f5eb96f92b0e",
   "metadata": {},
   "outputs": [
    {
     "data": {
      "text/plain": [
       "{'max_depth': 3, 'min_samples_leaf': 5, 'min_samples_split': 2}"
      ]
     },
     "execution_count": 66,
     "metadata": {},
     "output_type": "execute_result"
    }
   ],
   "source": [
    "grid_dclf.best_params_"
   ]
  },
  {
   "cell_type": "code",
   "execution_count": 67,
   "id": "efb1f02a-af90-49b4-8b6c-3717e62e6360",
   "metadata": {},
   "outputs": [
    {
     "data": {
      "text/plain": [
       "0.7991825076332119"
      ]
     },
     "execution_count": 67,
     "metadata": {},
     "output_type": "execute_result"
    }
   ],
   "source": [
    "grid_dclf.best_score_"
   ]
  },
  {
   "cell_type": "code",
   "execution_count": 68,
   "id": "0195966c-4f8b-419c-8676-a9bc68cbb55a",
   "metadata": {},
   "outputs": [],
   "source": [
    "best_dclf = grid_dclf.best_estimator_"
   ]
  },
  {
   "cell_type": "code",
   "execution_count": 69,
   "id": "5b640baa-7bcc-4075-b596-5022c0a87a3b",
   "metadata": {},
   "outputs": [],
   "source": [
    "dpred = best_dclf.predict(X_test)"
   ]
  },
  {
   "cell_type": "code",
   "execution_count": 70,
   "id": "4dbb38e6-99d4-405f-b37e-75fa35e15182",
   "metadata": {},
   "outputs": [
    {
     "data": {
      "text/plain": [
       "0.8715083798882681"
      ]
     },
     "execution_count": 70,
     "metadata": {},
     "output_type": "execute_result"
    }
   ],
   "source": [
    "accuracy_score(y_test,dpred)"
   ]
  },
  {
   "cell_type": "code",
   "execution_count": null,
   "id": "cc872691-386a-4b09-8dcd-e46a678f6278",
   "metadata": {},
   "outputs": [],
   "source": []
  }
 ],
 "metadata": {
  "kernelspec": {
   "display_name": "Python 3 (ipykernel)",
   "language": "python",
   "name": "python3"
  },
  "language_info": {
   "codemirror_mode": {
    "name": "ipython",
    "version": 3
   },
   "file_extension": ".py",
   "mimetype": "text/x-python",
   "name": "python",
   "nbconvert_exporter": "python",
   "pygments_lexer": "ipython3",
   "version": "3.9.7"
  }
 },
 "nbformat": 4,
 "nbformat_minor": 5
}
